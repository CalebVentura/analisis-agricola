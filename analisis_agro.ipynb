{
 "cells": [
  {
   "cell_type": "markdown",
   "metadata": {},
   "source": [
    "# Análisis en agricultura:\n",
    "### Autor: Caleb Ventura"
   ]
  },
  {
   "cell_type": "code",
   "execution_count": 1,
   "metadata": {},
   "outputs": [],
   "source": [
    "#librerías necesarias\n",
    "\n",
    "from __future__ import division, print_function, unicode_literals\n",
    "from numpy import *\n",
    "import numpy as np\n",
    "import matplotlib.pyplot as mplot\n",
    "import matplotlib.pylab as plt\n",
    "import matplotlib.cm as cm\n",
    "import matplotlib as mpl\n",
    "import pandas as pd\n",
    "import seaborn as sns\n",
    "import scipy.stats as stats\n",
    "import pylab\n",
    "import warnings\n",
    "warnings.filterwarnings('ignore')\n",
    "from itertools import cycle\n",
    "from sklearn.cluster import KMeans as km\n",
    "from sklearn.linear_model import LinearRegression as LR\n",
    "from sklearn.linear_model import Lasso as LS\n",
    "from sklearn.linear_model import Ridge as RG\n",
    "from sklearn.tree import DecisionTreeRegressor as scart\n",
    "from sklearn.manifold import TSNE\n",
    "%matplotlib inline"
   ]
  },
  {
   "cell_type": "markdown",
   "metadata": {},
   "source": [
    "# Lectura y limpieza de datos\n",
    "#### 1. Leyendo el archivo principal de datos agrícolas :\n",
    "- Base de datos principal que tiene información sobre el área de cultivo y la producción de cada estado desde 1997.."
   ]
  },
  {
   "cell_type": "code",
   "execution_count": 2,
   "metadata": {},
   "outputs": [],
   "source": [
    "# Leer csv: contiene datos principales\n",
    "#crop_prod: variable\n",
    "crop_prod=pd.read_csv('apy.csv',delimiter=',')\n",
    "\n",
    "# fillna reemplaza los NaN por ceros (0)\n",
    "crop_prod=crop_prod.fillna(0)\n",
    "#crop_prod.head(6)\n",
    "#imprime los tipos de datos que contiene apy.csv\n",
    "#print(crop_prod.dtypes)"
   ]
  },
  {
   "cell_type": "code",
   "execution_count": 3,
   "metadata": {},
   "outputs": [],
   "source": [
    "#Ordenamiento segun columna 0\n",
    "crop_prod.sort_values(by=crop_prod.columns[0])\n",
    "\n",
    "#fila 0 al 6, 3ra columna\n",
    "\n",
    "#states (Estados) es la lista ordenada de la columna 0\n",
    "#Este algoritmo permite enlistar de forma ordenada con \"sorted\" los estados, elimina los repetidos con \"set\"\n",
    "states = sorted(set(crop_prod.iloc[:,2].values))\n",
    "#states\n",
    "# states --> Imprime la lista de estados sin repetir\n",
    "#ver los primeros 5 filas (por defecto)\n",
    "#crop_prod.head(10)"
   ]
  },
  {
   "cell_type": "code",
   "execution_count": 4,
   "metadata": {},
   "outputs": [
    {
     "data": {
      "text/html": [
       "<div>\n",
       "<style scoped>\n",
       "    .dataframe tbody tr th:only-of-type {\n",
       "        vertical-align: middle;\n",
       "    }\n",
       "\n",
       "    .dataframe tbody tr th {\n",
       "        vertical-align: top;\n",
       "    }\n",
       "\n",
       "    .dataframe thead th {\n",
       "        text-align: right;\n",
       "    }\n",
       "</style>\n",
       "<table border=\"1\" class=\"dataframe\">\n",
       "  <thead>\n",
       "    <tr style=\"text-align: right;\">\n",
       "      <th></th>\n",
       "      <th>State_Name</th>\n",
       "      <th>District_Name</th>\n",
       "      <th>Crop_Year</th>\n",
       "      <th>Season</th>\n",
       "      <th>Crop</th>\n",
       "      <th>Area</th>\n",
       "      <th>Production</th>\n",
       "    </tr>\n",
       "  </thead>\n",
       "  <tbody>\n",
       "    <tr>\n",
       "      <th>0</th>\n",
       "      <td>Andaman and Nicobar Islands</td>\n",
       "      <td>NICOBARS</td>\n",
       "      <td>2000</td>\n",
       "      <td>Kharif</td>\n",
       "      <td>Arecanut</td>\n",
       "      <td>1254.0</td>\n",
       "      <td>2000.0</td>\n",
       "    </tr>\n",
       "    <tr>\n",
       "      <th>1</th>\n",
       "      <td>Andaman and Nicobar Islands</td>\n",
       "      <td>NICOBARS</td>\n",
       "      <td>2000</td>\n",
       "      <td>Kharif</td>\n",
       "      <td>Other Kharif pulses</td>\n",
       "      <td>2.0</td>\n",
       "      <td>1.0</td>\n",
       "    </tr>\n",
       "    <tr>\n",
       "      <th>2</th>\n",
       "      <td>Andaman and Nicobar Islands</td>\n",
       "      <td>NICOBARS</td>\n",
       "      <td>2000</td>\n",
       "      <td>Kharif</td>\n",
       "      <td>Rice</td>\n",
       "      <td>102.0</td>\n",
       "      <td>321.0</td>\n",
       "    </tr>\n",
       "    <tr>\n",
       "      <th>3</th>\n",
       "      <td>Andaman and Nicobar Islands</td>\n",
       "      <td>NICOBARS</td>\n",
       "      <td>2000</td>\n",
       "      <td>Whole Year</td>\n",
       "      <td>Banana</td>\n",
       "      <td>176.0</td>\n",
       "      <td>641.0</td>\n",
       "    </tr>\n",
       "    <tr>\n",
       "      <th>4</th>\n",
       "      <td>Andaman and Nicobar Islands</td>\n",
       "      <td>NICOBARS</td>\n",
       "      <td>2000</td>\n",
       "      <td>Whole Year</td>\n",
       "      <td>Cashewnut</td>\n",
       "      <td>720.0</td>\n",
       "      <td>165.0</td>\n",
       "    </tr>\n",
       "    <tr>\n",
       "      <th>5</th>\n",
       "      <td>Andaman and Nicobar Islands</td>\n",
       "      <td>NICOBARS</td>\n",
       "      <td>2000</td>\n",
       "      <td>Whole Year</td>\n",
       "      <td>Coconut</td>\n",
       "      <td>18168.0</td>\n",
       "      <td>65100000.0</td>\n",
       "    </tr>\n",
       "    <tr>\n",
       "      <th>6</th>\n",
       "      <td>Andaman and Nicobar Islands</td>\n",
       "      <td>NICOBARS</td>\n",
       "      <td>2000</td>\n",
       "      <td>Whole Year</td>\n",
       "      <td>Dry ginger</td>\n",
       "      <td>36.0</td>\n",
       "      <td>100.0</td>\n",
       "    </tr>\n",
       "    <tr>\n",
       "      <th>7</th>\n",
       "      <td>Andaman and Nicobar Islands</td>\n",
       "      <td>NICOBARS</td>\n",
       "      <td>2000</td>\n",
       "      <td>Whole Year</td>\n",
       "      <td>Sugarcane</td>\n",
       "      <td>1.0</td>\n",
       "      <td>2.0</td>\n",
       "    </tr>\n",
       "    <tr>\n",
       "      <th>8</th>\n",
       "      <td>Andaman and Nicobar Islands</td>\n",
       "      <td>NICOBARS</td>\n",
       "      <td>2000</td>\n",
       "      <td>Whole Year</td>\n",
       "      <td>Sweet potato</td>\n",
       "      <td>5.0</td>\n",
       "      <td>15.0</td>\n",
       "    </tr>\n",
       "    <tr>\n",
       "      <th>9</th>\n",
       "      <td>Andaman and Nicobar Islands</td>\n",
       "      <td>NICOBARS</td>\n",
       "      <td>2000</td>\n",
       "      <td>Whole Year</td>\n",
       "      <td>Tapioca</td>\n",
       "      <td>40.0</td>\n",
       "      <td>169.0</td>\n",
       "    </tr>\n",
       "  </tbody>\n",
       "</table>\n",
       "</div>"
      ],
      "text/plain": [
       "                    State_Name District_Name  Crop_Year       Season  \\\n",
       "0  Andaman and Nicobar Islands      NICOBARS       2000  Kharif        \n",
       "1  Andaman and Nicobar Islands      NICOBARS       2000  Kharif        \n",
       "2  Andaman and Nicobar Islands      NICOBARS       2000  Kharif        \n",
       "3  Andaman and Nicobar Islands      NICOBARS       2000  Whole Year    \n",
       "4  Andaman and Nicobar Islands      NICOBARS       2000  Whole Year    \n",
       "5  Andaman and Nicobar Islands      NICOBARS       2000  Whole Year    \n",
       "6  Andaman and Nicobar Islands      NICOBARS       2000  Whole Year    \n",
       "7  Andaman and Nicobar Islands      NICOBARS       2000  Whole Year    \n",
       "8  Andaman and Nicobar Islands      NICOBARS       2000  Whole Year    \n",
       "9  Andaman and Nicobar Islands      NICOBARS       2000  Whole Year    \n",
       "\n",
       "                  Crop     Area  Production  \n",
       "0             Arecanut   1254.0      2000.0  \n",
       "1  Other Kharif pulses      2.0         1.0  \n",
       "2                 Rice    102.0       321.0  \n",
       "3               Banana    176.0       641.0  \n",
       "4            Cashewnut    720.0       165.0  \n",
       "5             Coconut   18168.0  65100000.0  \n",
       "6           Dry ginger     36.0       100.0  \n",
       "7            Sugarcane      1.0         2.0  \n",
       "8         Sweet potato      5.0        15.0  \n",
       "9              Tapioca     40.0       169.0  "
      ]
     },
     "execution_count": 4,
     "metadata": {},
     "output_type": "execute_result"
    }
   ],
   "source": [
    "crop_prod.head(10)\n",
    "# imprime los 5 primeros por defecto"
   ]
  },
  {
   "cell_type": "markdown",
   "metadata": {},
   "source": [
    "#### 2. Lectura de la base de datos con el precio mayorista de los cultivos a lo largo de los años.\n",
    "- Los productos básicos son cultivos\n",
    "- Los precios están en Rupias / Quintal"
   ]
  },
  {
   "cell_type": "code",
   "execution_count": 5,
   "metadata": {},
   "outputs": [
    {
     "data": {
      "text/html": [
       "<div>\n",
       "<style scoped>\n",
       "    .dataframe tbody tr th:only-of-type {\n",
       "        vertical-align: middle;\n",
       "    }\n",
       "\n",
       "    .dataframe tbody tr th {\n",
       "        vertical-align: top;\n",
       "    }\n",
       "\n",
       "    .dataframe thead th {\n",
       "        text-align: right;\n",
       "    }\n",
       "</style>\n",
       "<table border=\"1\" class=\"dataframe\">\n",
       "  <thead>\n",
       "    <tr style=\"text-align: right;\">\n",
       "      <th></th>\n",
       "      <th>Materia prima</th>\n",
       "      <th>2002</th>\n",
       "      <th>2004</th>\n",
       "      <th>2005</th>\n",
       "      <th>2006</th>\n",
       "      <th>2007</th>\n",
       "      <th>2008</th>\n",
       "      <th>2009</th>\n",
       "      <th>2010</th>\n",
       "      <th>2011</th>\n",
       "      <th>2012</th>\n",
       "    </tr>\n",
       "  </thead>\n",
       "  <tbody>\n",
       "    <tr>\n",
       "      <th>0</th>\n",
       "      <td>Paddy (Common)</td>\n",
       "      <td>550.0</td>\n",
       "      <td>560.0</td>\n",
       "      <td>570.0</td>\n",
       "      <td>580.0</td>\n",
       "      <td>645.0</td>\n",
       "      <td>850.0</td>\n",
       "      <td>950.0</td>\n",
       "      <td>1000.0</td>\n",
       "      <td>1080</td>\n",
       "      <td>1250.0</td>\n",
       "    </tr>\n",
       "    <tr>\n",
       "      <th>1</th>\n",
       "      <td>Paddy (Grade ‘A’)</td>\n",
       "      <td>580.0</td>\n",
       "      <td>590.0</td>\n",
       "      <td>600.0</td>\n",
       "      <td>610.0</td>\n",
       "      <td>675.0</td>\n",
       "      <td>880.0</td>\n",
       "      <td>980.0</td>\n",
       "      <td>1030.0</td>\n",
       "      <td>1110</td>\n",
       "      <td>1280.0</td>\n",
       "    </tr>\n",
       "    <tr>\n",
       "      <th>2</th>\n",
       "      <td>Wheat</td>\n",
       "      <td>630.0</td>\n",
       "      <td>640.0</td>\n",
       "      <td>650.0</td>\n",
       "      <td>750.0</td>\n",
       "      <td>1000.0</td>\n",
       "      <td>1080.0</td>\n",
       "      <td>1100.0</td>\n",
       "      <td>1120.0</td>\n",
       "      <td>1285</td>\n",
       "      <td>1350.0</td>\n",
       "    </tr>\n",
       "    <tr>\n",
       "      <th>3</th>\n",
       "      <td>Jowar (Hybrid)</td>\n",
       "      <td>490.0</td>\n",
       "      <td>515.0</td>\n",
       "      <td>525.0</td>\n",
       "      <td>540.0</td>\n",
       "      <td>600.0</td>\n",
       "      <td>840.0</td>\n",
       "      <td>840.0</td>\n",
       "      <td>880.0</td>\n",
       "      <td>980</td>\n",
       "      <td>1500.0</td>\n",
       "    </tr>\n",
       "    <tr>\n",
       "      <th>4</th>\n",
       "      <td>Jowar (Maldandi)</td>\n",
       "      <td>0.0</td>\n",
       "      <td>0.0</td>\n",
       "      <td>0.0</td>\n",
       "      <td>555.0</td>\n",
       "      <td>620.0</td>\n",
       "      <td>860.0</td>\n",
       "      <td>860.0</td>\n",
       "      <td>900.0</td>\n",
       "      <td>1000</td>\n",
       "      <td>1520.0</td>\n",
       "    </tr>\n",
       "    <tr>\n",
       "      <th>5</th>\n",
       "      <td>Bajra</td>\n",
       "      <td>495.0</td>\n",
       "      <td>515.0</td>\n",
       "      <td>525.0</td>\n",
       "      <td>540.0</td>\n",
       "      <td>600.0</td>\n",
       "      <td>840.0</td>\n",
       "      <td>840.0</td>\n",
       "      <td>880.0</td>\n",
       "      <td>980</td>\n",
       "      <td>1175.0</td>\n",
       "    </tr>\n",
       "    <tr>\n",
       "      <th>6</th>\n",
       "      <td>Ragi</td>\n",
       "      <td>490.0</td>\n",
       "      <td>515.0</td>\n",
       "      <td>525.0</td>\n",
       "      <td>540.0</td>\n",
       "      <td>600.0</td>\n",
       "      <td>915.0</td>\n",
       "      <td>915.0</td>\n",
       "      <td>965.0</td>\n",
       "      <td>1050</td>\n",
       "      <td>1500.0</td>\n",
       "    </tr>\n",
       "    <tr>\n",
       "      <th>7</th>\n",
       "      <td>Maize</td>\n",
       "      <td>490.0</td>\n",
       "      <td>525.0</td>\n",
       "      <td>540.0</td>\n",
       "      <td>540.0</td>\n",
       "      <td>620.0</td>\n",
       "      <td>840.0</td>\n",
       "      <td>840.0</td>\n",
       "      <td>880.0</td>\n",
       "      <td>980</td>\n",
       "      <td>1175.0</td>\n",
       "    </tr>\n",
       "    <tr>\n",
       "      <th>8</th>\n",
       "      <td>Barley</td>\n",
       "      <td>505.0</td>\n",
       "      <td>540.0</td>\n",
       "      <td>550.0</td>\n",
       "      <td>565.0</td>\n",
       "      <td>650.0</td>\n",
       "      <td>680.0</td>\n",
       "      <td>750.0</td>\n",
       "      <td>780.0</td>\n",
       "      <td>980</td>\n",
       "      <td>980.0</td>\n",
       "    </tr>\n",
       "    <tr>\n",
       "      <th>9</th>\n",
       "      <td>Gram</td>\n",
       "      <td>1225.0</td>\n",
       "      <td>1425.0</td>\n",
       "      <td>1435.0</td>\n",
       "      <td>1445.0</td>\n",
       "      <td>1600.0</td>\n",
       "      <td>1730.0</td>\n",
       "      <td>1760.0</td>\n",
       "      <td>2100.0</td>\n",
       "      <td>2800</td>\n",
       "      <td>3000.0</td>\n",
       "    </tr>\n",
       "  </tbody>\n",
       "</table>\n",
       "</div>"
      ],
      "text/plain": [
       "        Materia prima    2002    2004    2005    2006    2007    2008    2009  \\\n",
       "0     Paddy (Common)    550.0   560.0   570.0   580.0   645.0   850.0   950.0   \n",
       "1  Paddy (Grade ‘A’)    580.0   590.0   600.0   610.0   675.0   880.0   980.0   \n",
       "2              Wheat    630.0   640.0   650.0   750.0  1000.0  1080.0  1100.0   \n",
       "3      Jowar (Hybrid)   490.0   515.0   525.0   540.0   600.0   840.0   840.0   \n",
       "4    Jowar (Maldandi)     0.0     0.0     0.0   555.0   620.0   860.0   860.0   \n",
       "5               Bajra   495.0   515.0   525.0   540.0   600.0   840.0   840.0   \n",
       "6                Ragi   490.0   515.0   525.0   540.0   600.0   915.0   915.0   \n",
       "7              Maize    490.0   525.0   540.0   540.0   620.0   840.0   840.0   \n",
       "8             Barley    505.0   540.0   550.0   565.0   650.0   680.0   750.0   \n",
       "9               Gram   1225.0  1425.0  1435.0  1445.0  1600.0  1730.0  1760.0   \n",
       "\n",
       "     2010  2011    2012  \n",
       "0  1000.0  1080  1250.0  \n",
       "1  1030.0  1110  1280.0  \n",
       "2  1120.0  1285  1350.0  \n",
       "3   880.0   980  1500.0  \n",
       "4   900.0  1000  1520.0  \n",
       "5   880.0   980  1175.0  \n",
       "6   965.0  1050  1500.0  \n",
       "7   880.0   980  1175.0  \n",
       "8   780.0   980   980.0  \n",
       "9  2100.0  2800  3000.0  "
      ]
     },
     "execution_count": 5,
     "metadata": {},
     "output_type": "execute_result"
    }
   ],
   "source": [
    "#Lectura del cvs \"Crops_price\"\n",
    "crop_price=pd.read_csv(\"Crops_price.csv\",delimiter=',')\n",
    "\n",
    "#Recorre cada columna\n",
    "for i in range(1,crop_price.shape[1]):\n",
    "    \n",
    "    # Convierte todo en números\n",
    "    # convierte los errores en NaN\n",
    "    crop_price.iloc[:,i]=pd.to_numeric(crop_price.iloc[:,i],errors='coerce')\n",
    "    \n",
    "    #Rellena los NaN y los convierte en cero\n",
    "    crop_price.iloc[:,i]=crop_price.iloc[:,i].fillna(0)\n",
    "\n",
    "# Renombrar el título de la columna \"commoditties\"\n",
    "crop_price = crop_price.rename(columns = {'Commodities(rs/quin)':'Materia prima'})\n",
    "\n",
    "#muestra los 5 primeros por defecto\n",
    "crop_price.head(10)"
   ]
  },
  {
   "cell_type": "markdown",
   "metadata": {},
   "source": [
    "#### 3. Área de siembra de los principales cultivos"
   ]
  },
  {
   "cell_type": "code",
   "execution_count": 6,
   "metadata": {
    "scrolled": true
   },
   "outputs": [
    {
     "data": {
      "text/html": [
       "<div>\n",
       "<style scoped>\n",
       "    .dataframe tbody tr th:only-of-type {\n",
       "        vertical-align: middle;\n",
       "    }\n",
       "\n",
       "    .dataframe tbody tr th {\n",
       "        vertical-align: top;\n",
       "    }\n",
       "\n",
       "    .dataframe thead th {\n",
       "        text-align: right;\n",
       "    }\n",
       "</style>\n",
       "<table border=\"1\" class=\"dataframe\">\n",
       "  <thead>\n",
       "    <tr style=\"text-align: right;\">\n",
       "      <th></th>\n",
       "      <th>Year</th>\n",
       "      <th>Rice</th>\n",
       "      <th>Jowar</th>\n",
       "      <th>Bajra</th>\n",
       "      <th>Maize</th>\n",
       "      <th>Ragi</th>\n",
       "      <th>Small millets</th>\n",
       "      <th>Wheat</th>\n",
       "      <th>Barley</th>\n",
       "      <th>Gram</th>\n",
       "      <th>...</th>\n",
       "      <th>Rubber</th>\n",
       "      <th>Banana</th>\n",
       "      <th>Sugarcane</th>\n",
       "      <th>Tobacco</th>\n",
       "      <th>Potato</th>\n",
       "      <th>Black pepper</th>\n",
       "      <th>Dry chillies</th>\n",
       "      <th>Ginger</th>\n",
       "      <th>Coconut</th>\n",
       "      <th>Turmeric</th>\n",
       "    </tr>\n",
       "  </thead>\n",
       "  <tbody>\n",
       "    <tr>\n",
       "      <th>0</th>\n",
       "      <td>2000</td>\n",
       "      <td>44712</td>\n",
       "      <td>9856</td>\n",
       "      <td>9829</td>\n",
       "      <td>6611</td>\n",
       "      <td>1759</td>\n",
       "      <td>1424</td>\n",
       "      <td>25731</td>\n",
       "      <td>778</td>\n",
       "      <td>5185</td>\n",
       "      <td>...</td>\n",
       "      <td>400</td>\n",
       "      <td>459</td>\n",
       "      <td>4316</td>\n",
       "      <td>262</td>\n",
       "      <td>1222</td>\n",
       "      <td>214</td>\n",
       "      <td>836</td>\n",
       "      <td>86</td>\n",
       "      <td>1824</td>\n",
       "      <td>192</td>\n",
       "    </tr>\n",
       "    <tr>\n",
       "      <th>1</th>\n",
       "      <td>2001</td>\n",
       "      <td>44904</td>\n",
       "      <td>9795</td>\n",
       "      <td>9529</td>\n",
       "      <td>6582</td>\n",
       "      <td>1647</td>\n",
       "      <td>1310</td>\n",
       "      <td>26345</td>\n",
       "      <td>660</td>\n",
       "      <td>6416</td>\n",
       "      <td>...</td>\n",
       "      <td>401</td>\n",
       "      <td>489</td>\n",
       "      <td>4412</td>\n",
       "      <td>348</td>\n",
       "      <td>1208</td>\n",
       "      <td>219</td>\n",
       "      <td>880</td>\n",
       "      <td>91</td>\n",
       "      <td>1932</td>\n",
       "      <td>167</td>\n",
       "    </tr>\n",
       "    <tr>\n",
       "      <th>2</th>\n",
       "      <td>2002</td>\n",
       "      <td>41176</td>\n",
       "      <td>9300</td>\n",
       "      <td>7740</td>\n",
       "      <td>6635</td>\n",
       "      <td>1415</td>\n",
       "      <td>1201</td>\n",
       "      <td>25196</td>\n",
       "      <td>702</td>\n",
       "      <td>5906</td>\n",
       "      <td>...</td>\n",
       "      <td>408</td>\n",
       "      <td>460</td>\n",
       "      <td>4520</td>\n",
       "      <td>327</td>\n",
       "      <td>1345</td>\n",
       "      <td>224</td>\n",
       "      <td>827</td>\n",
       "      <td>88</td>\n",
       "      <td>1922</td>\n",
       "      <td>150</td>\n",
       "    </tr>\n",
       "    <tr>\n",
       "      <th>3</th>\n",
       "      <td>2003</td>\n",
       "      <td>42593</td>\n",
       "      <td>9331</td>\n",
       "      <td>10612</td>\n",
       "      <td>7343</td>\n",
       "      <td>1666</td>\n",
       "      <td>1191</td>\n",
       "      <td>26595</td>\n",
       "      <td>657</td>\n",
       "      <td>7048</td>\n",
       "      <td>...</td>\n",
       "      <td>428</td>\n",
       "      <td>391</td>\n",
       "      <td>3938</td>\n",
       "      <td>370</td>\n",
       "      <td>1289</td>\n",
       "      <td>233</td>\n",
       "      <td>774</td>\n",
       "      <td>85</td>\n",
       "      <td>1934</td>\n",
       "      <td>150</td>\n",
       "    </tr>\n",
       "    <tr>\n",
       "      <th>4</th>\n",
       "      <td>2004</td>\n",
       "      <td>41907</td>\n",
       "      <td>9092</td>\n",
       "      <td>8233</td>\n",
       "      <td>7430</td>\n",
       "      <td>1553</td>\n",
       "      <td>1101</td>\n",
       "      <td>26383</td>\n",
       "      <td>616</td>\n",
       "      <td>6715</td>\n",
       "      <td>...</td>\n",
       "      <td>440</td>\n",
       "      <td>404</td>\n",
       "      <td>3662</td>\n",
       "      <td>366</td>\n",
       "      <td>1318</td>\n",
       "      <td>228</td>\n",
       "      <td>738</td>\n",
       "      <td>95</td>\n",
       "      <td>1935</td>\n",
       "      <td>159</td>\n",
       "    </tr>\n",
       "    <tr>\n",
       "      <th>5</th>\n",
       "      <td>2005</td>\n",
       "      <td>43660</td>\n",
       "      <td>8667</td>\n",
       "      <td>9581</td>\n",
       "      <td>7588</td>\n",
       "      <td>1534</td>\n",
       "      <td>1064</td>\n",
       "      <td>26484</td>\n",
       "      <td>630</td>\n",
       "      <td>6926</td>\n",
       "      <td>...</td>\n",
       "      <td>447</td>\n",
       "      <td>424</td>\n",
       "      <td>4202</td>\n",
       "      <td>373</td>\n",
       "      <td>1401</td>\n",
       "      <td>260</td>\n",
       "      <td>654</td>\n",
       "      <td>111</td>\n",
       "      <td>1947</td>\n",
       "      <td>172</td>\n",
       "    </tr>\n",
       "    <tr>\n",
       "      <th>6</th>\n",
       "      <td>2006</td>\n",
       "      <td>43814</td>\n",
       "      <td>8472</td>\n",
       "      <td>9508</td>\n",
       "      <td>7894</td>\n",
       "      <td>1177</td>\n",
       "      <td>1010</td>\n",
       "      <td>27994</td>\n",
       "      <td>646</td>\n",
       "      <td>7494</td>\n",
       "      <td>...</td>\n",
       "      <td>454</td>\n",
       "      <td>477</td>\n",
       "      <td>5151</td>\n",
       "      <td>369</td>\n",
       "      <td>1484</td>\n",
       "      <td>246</td>\n",
       "      <td>763</td>\n",
       "      <td>106</td>\n",
       "      <td>1937</td>\n",
       "      <td>178</td>\n",
       "    </tr>\n",
       "    <tr>\n",
       "      <th>7</th>\n",
       "      <td>2007</td>\n",
       "      <td>43914</td>\n",
       "      <td>7764</td>\n",
       "      <td>9571</td>\n",
       "      <td>8117</td>\n",
       "      <td>1387</td>\n",
       "      <td>1039</td>\n",
       "      <td>28039</td>\n",
       "      <td>603</td>\n",
       "      <td>7544</td>\n",
       "      <td>...</td>\n",
       "      <td>459</td>\n",
       "      <td>658</td>\n",
       "      <td>5055</td>\n",
       "      <td>348</td>\n",
       "      <td>1553</td>\n",
       "      <td>197</td>\n",
       "      <td>806</td>\n",
       "      <td>104</td>\n",
       "      <td>1903</td>\n",
       "      <td>175</td>\n",
       "    </tr>\n",
       "    <tr>\n",
       "      <th>8</th>\n",
       "      <td>2008</td>\n",
       "      <td>45537</td>\n",
       "      <td>7531</td>\n",
       "      <td>8752</td>\n",
       "      <td>8174</td>\n",
       "      <td>1381</td>\n",
       "      <td>905</td>\n",
       "      <td>27752</td>\n",
       "      <td>706</td>\n",
       "      <td>7892</td>\n",
       "      <td>...</td>\n",
       "      <td>463</td>\n",
       "      <td>709</td>\n",
       "      <td>4415</td>\n",
       "      <td>391</td>\n",
       "      <td>1828</td>\n",
       "      <td>239</td>\n",
       "      <td>779</td>\n",
       "      <td>109</td>\n",
       "      <td>1903</td>\n",
       "      <td>181</td>\n",
       "    </tr>\n",
       "    <tr>\n",
       "      <th>9</th>\n",
       "      <td>2009</td>\n",
       "      <td>41918</td>\n",
       "      <td>7787</td>\n",
       "      <td>8904</td>\n",
       "      <td>8261</td>\n",
       "      <td>1268</td>\n",
       "      <td>831</td>\n",
       "      <td>28457</td>\n",
       "      <td>624</td>\n",
       "      <td>8169</td>\n",
       "      <td>...</td>\n",
       "      <td>468</td>\n",
       "      <td>770</td>\n",
       "      <td>4175</td>\n",
       "      <td>444</td>\n",
       "      <td>1835</td>\n",
       "      <td>197</td>\n",
       "      <td>767</td>\n",
       "      <td>107</td>\n",
       "      <td>1895</td>\n",
       "      <td>180</td>\n",
       "    </tr>\n",
       "  </tbody>\n",
       "</table>\n",
       "<p>10 rows × 35 columns</p>\n",
       "</div>"
      ],
      "text/plain": [
       "   Year   Rice  Jowar  Bajra  Maize  Ragi  Small millets  Wheat  Barley  Gram  \\\n",
       "0  2000  44712   9856   9829   6611  1759           1424  25731     778  5185   \n",
       "1  2001  44904   9795   9529   6582  1647           1310  26345     660  6416   \n",
       "2  2002  41176   9300   7740   6635  1415           1201  25196     702  5906   \n",
       "3  2003  42593   9331  10612   7343  1666           1191  26595     657  7048   \n",
       "4  2004  41907   9092   8233   7430  1553           1101  26383     616  6715   \n",
       "5  2005  43660   8667   9581   7588  1534           1064  26484     630  6926   \n",
       "6  2006  43814   8472   9508   7894  1177           1010  27994     646  7494   \n",
       "7  2007  43914   7764   9571   8117  1387           1039  28039     603  7544   \n",
       "8  2008  45537   7531   8752   8174  1381            905  27752     706  7892   \n",
       "9  2009  41918   7787   8904   8261  1268            831  28457     624  8169   \n",
       "\n",
       "   ...  Rubber  Banana  Sugarcane  Tobacco  Potato  Black pepper  \\\n",
       "0  ...     400     459       4316      262    1222           214   \n",
       "1  ...     401     489       4412      348    1208           219   \n",
       "2  ...     408     460       4520      327    1345           224   \n",
       "3  ...     428     391       3938      370    1289           233   \n",
       "4  ...     440     404       3662      366    1318           228   \n",
       "5  ...     447     424       4202      373    1401           260   \n",
       "6  ...     454     477       5151      369    1484           246   \n",
       "7  ...     459     658       5055      348    1553           197   \n",
       "8  ...     463     709       4415      391    1828           239   \n",
       "9  ...     468     770       4175      444    1835           197   \n",
       "\n",
       "   Dry chillies  Ginger  Coconut   Turmeric  \n",
       "0           836      86      1824       192  \n",
       "1           880      91      1932       167  \n",
       "2           827      88      1922       150  \n",
       "3           774      85      1934       150  \n",
       "4           738      95      1935       159  \n",
       "5           654     111      1947       172  \n",
       "6           763     106      1937       178  \n",
       "7           806     104      1903       175  \n",
       "8           779     109      1903       181  \n",
       "9           767     107      1895       180  \n",
       "\n",
       "[10 rows x 35 columns]"
      ]
     },
     "execution_count": 6,
     "metadata": {},
     "output_type": "execute_result"
    }
   ],
   "source": [
    "# Lectura de la tabla \"area_cult\" Área de cultivo para los principales productos\n",
    "area_cult=pd.read_csv(\"area_cult.csv\",delimiter=',')\n",
    "#print(sum(area_cult.isna()))\n",
    "area_cult.head(10)"
   ]
  },
  {
   "cell_type": "markdown",
   "metadata": {},
   "source": [
    "#### 4. Lectura de la base de datos para conocer el costo del cultivo de cierto producto en el Estado\n",
    "- La información se divide en tres partes:\n",
    "- A2 (costo real pagado), A2 + FL (costo real pagado más valor imputado del trabajo familiar)\n",
    "- C2 (costo integral que incluye la renta imputada y los intereses sobre la tierra y el capital en propiedad). Como es evidente, C2> A2 + FL> A2.\n",
    "- Costo de producción por quintal."
   ]
  },
  {
   "cell_type": "code",
   "execution_count": 7,
   "metadata": {},
   "outputs": [
    {
     "name": "stdout",
     "output_type": "stream",
     "text": [
      "(50, 20)\n"
     ]
    },
    {
     "data": {
      "text/html": [
       "<div>\n",
       "<style scoped>\n",
       "    .dataframe tbody tr th:only-of-type {\n",
       "        vertical-align: middle;\n",
       "    }\n",
       "\n",
       "    .dataframe tbody tr th {\n",
       "        vertical-align: top;\n",
       "    }\n",
       "\n",
       "    .dataframe thead th {\n",
       "        text-align: right;\n",
       "    }\n",
       "</style>\n",
       "<table border=\"1\" class=\"dataframe\">\n",
       "  <thead>\n",
       "    <tr style=\"text-align: right;\">\n",
       "      <th></th>\n",
       "      <th>Crop</th>\n",
       "      <th>State/ UT Name</th>\n",
       "      <th>Cost of Cultivation (`/Hectare) - A2+FL - 2008-09</th>\n",
       "      <th>Cost of Cultivation (`/Hectare) - A2+FL - 2009-10</th>\n",
       "      <th>Cost of Cultivation (`/Hectare) - A2+FL - 2010-11</th>\n",
       "      <th>Cost of Cultivation (`/Hectare) - A2+FL - 2011-12</th>\n",
       "      <th>Cost of Cultivation (`/Hectare) - A2+FL - 2012-13</th>\n",
       "      <th>Cost of Cultivation (`/Hectare) - A2+FL - 2013-14</th>\n",
       "      <th>Cost of Cultivation(`/Hectare) - C2 - 2008-09</th>\n",
       "      <th>Cost of Cultivation(`/Hectare) - C2 - 2009-10</th>\n",
       "      <th>Cost of Cultivation(`/Hectare) - C2 - 2010-11</th>\n",
       "      <th>Cost of Cultivation(`/Hectare) - C2 - 2011-12</th>\n",
       "      <th>Cost of Cultivation (`/Hectare) - C2 - 2012-13</th>\n",
       "      <th>Cost of Cultivation (`/Hectare) - C2 - 2013-14</th>\n",
       "      <th>Cost of Production (`/Quintal) - C2 - 2008-09</th>\n",
       "      <th>Cost of Production (`/Quintal) - C2 - 2009-10</th>\n",
       "      <th>Cost of Production (`/Quintal) - C2 - 2010-11</th>\n",
       "      <th>Cost of Production (`/Quintal) - C2 - 2011-12</th>\n",
       "      <th>Cost of Production (`/Quintal) - C2 - 2012-13</th>\n",
       "      <th>Cost of Production (`/Quintal) - C2 - 2013-14</th>\n",
       "    </tr>\n",
       "  </thead>\n",
       "  <tbody>\n",
       "    <tr>\n",
       "      <th>0</th>\n",
       "      <td>Paddy</td>\n",
       "      <td>Andhra Pradesh</td>\n",
       "      <td>29664.84</td>\n",
       "      <td>35104.80</td>\n",
       "      <td>35090.78</td>\n",
       "      <td>37946.69</td>\n",
       "      <td>42669.85</td>\n",
       "      <td>46781.05</td>\n",
       "      <td>46450.20</td>\n",
       "      <td>54202.54</td>\n",
       "      <td>51505.34</td>\n",
       "      <td>58027.19</td>\n",
       "      <td>68149.69</td>\n",
       "      <td>72417.05</td>\n",
       "      <td>789.90</td>\n",
       "      <td>932.50</td>\n",
       "      <td>916.98</td>\n",
       "      <td>976.36</td>\n",
       "      <td>1135.01</td>\n",
       "      <td>1248.20</td>\n",
       "    </tr>\n",
       "    <tr>\n",
       "      <th>1</th>\n",
       "      <td>Paddy</td>\n",
       "      <td>Odisha</td>\n",
       "      <td>17478.05</td>\n",
       "      <td>19175.75</td>\n",
       "      <td>21894.98</td>\n",
       "      <td>27243.15</td>\n",
       "      <td>31723.25</td>\n",
       "      <td>35569.85</td>\n",
       "      <td>25909.05</td>\n",
       "      <td>28143.88</td>\n",
       "      <td>30318.40</td>\n",
       "      <td>35972.50</td>\n",
       "      <td>44091.78</td>\n",
       "      <td>46839.15</td>\n",
       "      <td>715.04</td>\n",
       "      <td>793.65</td>\n",
       "      <td>955.59</td>\n",
       "      <td>1221.44</td>\n",
       "      <td>1159.54</td>\n",
       "      <td>1408.40</td>\n",
       "    </tr>\n",
       "    <tr>\n",
       "      <th>2</th>\n",
       "      <td>Paddy</td>\n",
       "      <td>Punjab</td>\n",
       "      <td>25154.75</td>\n",
       "      <td>29031.73</td>\n",
       "      <td>30793.25</td>\n",
       "      <td>31248.72</td>\n",
       "      <td>37103.96</td>\n",
       "      <td>39686.81</td>\n",
       "      <td>45291.24</td>\n",
       "      <td>50650.21</td>\n",
       "      <td>51279.34</td>\n",
       "      <td>53813.93</td>\n",
       "      <td>64811.36</td>\n",
       "      <td>68382.86</td>\n",
       "      <td>669.86</td>\n",
       "      <td>773.18</td>\n",
       "      <td>836.46</td>\n",
       "      <td>904.30</td>\n",
       "      <td>945.73</td>\n",
       "      <td>1043.27</td>\n",
       "    </tr>\n",
       "    <tr>\n",
       "      <th>3</th>\n",
       "      <td>Paddy</td>\n",
       "      <td>Uttar Pradesh</td>\n",
       "      <td>17022.00</td>\n",
       "      <td>21336.61</td>\n",
       "      <td>21281.30</td>\n",
       "      <td>28147.45</td>\n",
       "      <td>29436.98</td>\n",
       "      <td>30982.85</td>\n",
       "      <td>28144.50</td>\n",
       "      <td>32327.78</td>\n",
       "      <td>32299.35</td>\n",
       "      <td>40146.68</td>\n",
       "      <td>43620.87</td>\n",
       "      <td>45617.43</td>\n",
       "      <td>732.62</td>\n",
       "      <td>812.97</td>\n",
       "      <td>806.87</td>\n",
       "      <td>957.83</td>\n",
       "      <td>1019.43</td>\n",
       "      <td>1031.23</td>\n",
       "    </tr>\n",
       "    <tr>\n",
       "      <th>4</th>\n",
       "      <td>Paddy</td>\n",
       "      <td>West Bengal</td>\n",
       "      <td>24731.06</td>\n",
       "      <td>28101.85</td>\n",
       "      <td>32872.72</td>\n",
       "      <td>37959.78</td>\n",
       "      <td>42770.22</td>\n",
       "      <td>45783.94</td>\n",
       "      <td>33046.12</td>\n",
       "      <td>38111.55</td>\n",
       "      <td>43019.85</td>\n",
       "      <td>49142.99</td>\n",
       "      <td>55982.79</td>\n",
       "      <td>60924.19</td>\n",
       "      <td>731.25</td>\n",
       "      <td>865.12</td>\n",
       "      <td>1022.83</td>\n",
       "      <td>1085.76</td>\n",
       "      <td>1236.05</td>\n",
       "      <td>1366.80</td>\n",
       "    </tr>\n",
       "  </tbody>\n",
       "</table>\n",
       "</div>"
      ],
      "text/plain": [
       "    Crop  State/ UT Name  Cost of Cultivation (`/Hectare) - A2+FL - 2008-09  \\\n",
       "0  Paddy  Andhra Pradesh                                           29664.84   \n",
       "1  Paddy          Odisha                                           17478.05   \n",
       "2  Paddy          Punjab                                           25154.75   \n",
       "3  Paddy   Uttar Pradesh                                           17022.00   \n",
       "4  Paddy     West Bengal                                           24731.06   \n",
       "\n",
       "   Cost of Cultivation (`/Hectare) - A2+FL - 2009-10  \\\n",
       "0                                           35104.80   \n",
       "1                                           19175.75   \n",
       "2                                           29031.73   \n",
       "3                                           21336.61   \n",
       "4                                           28101.85   \n",
       "\n",
       "   Cost of Cultivation (`/Hectare) - A2+FL - 2010-11  \\\n",
       "0                                           35090.78   \n",
       "1                                           21894.98   \n",
       "2                                           30793.25   \n",
       "3                                           21281.30   \n",
       "4                                           32872.72   \n",
       "\n",
       "   Cost of Cultivation (`/Hectare) - A2+FL - 2011-12  \\\n",
       "0                                           37946.69   \n",
       "1                                           27243.15   \n",
       "2                                           31248.72   \n",
       "3                                           28147.45   \n",
       "4                                           37959.78   \n",
       "\n",
       "   Cost of Cultivation (`/Hectare) - A2+FL - 2012-13  \\\n",
       "0                                           42669.85   \n",
       "1                                           31723.25   \n",
       "2                                           37103.96   \n",
       "3                                           29436.98   \n",
       "4                                           42770.22   \n",
       "\n",
       "   Cost of Cultivation (`/Hectare) - A2+FL - 2013-14  \\\n",
       "0                                           46781.05   \n",
       "1                                           35569.85   \n",
       "2                                           39686.81   \n",
       "3                                           30982.85   \n",
       "4                                           45783.94   \n",
       "\n",
       "   Cost of Cultivation(`/Hectare) - C2 - 2008-09  \\\n",
       "0                                       46450.20   \n",
       "1                                       25909.05   \n",
       "2                                       45291.24   \n",
       "3                                       28144.50   \n",
       "4                                       33046.12   \n",
       "\n",
       "   Cost of Cultivation(`/Hectare) - C2 - 2009-10  \\\n",
       "0                                       54202.54   \n",
       "1                                       28143.88   \n",
       "2                                       50650.21   \n",
       "3                                       32327.78   \n",
       "4                                       38111.55   \n",
       "\n",
       "   Cost of Cultivation(`/Hectare) - C2 - 2010-11  \\\n",
       "0                                       51505.34   \n",
       "1                                       30318.40   \n",
       "2                                       51279.34   \n",
       "3                                       32299.35   \n",
       "4                                       43019.85   \n",
       "\n",
       "   Cost of Cultivation(`/Hectare) - C2 - 2011-12  \\\n",
       "0                                       58027.19   \n",
       "1                                       35972.50   \n",
       "2                                       53813.93   \n",
       "3                                       40146.68   \n",
       "4                                       49142.99   \n",
       "\n",
       "   Cost of Cultivation (`/Hectare) - C2 - 2012-13  \\\n",
       "0                                        68149.69   \n",
       "1                                        44091.78   \n",
       "2                                        64811.36   \n",
       "3                                        43620.87   \n",
       "4                                        55982.79   \n",
       "\n",
       "   Cost of Cultivation (`/Hectare) - C2 - 2013-14  \\\n",
       "0                                        72417.05   \n",
       "1                                        46839.15   \n",
       "2                                        68382.86   \n",
       "3                                        45617.43   \n",
       "4                                        60924.19   \n",
       "\n",
       "   Cost of Production (`/Quintal) - C2 - 2008-09  \\\n",
       "0                                         789.90   \n",
       "1                                         715.04   \n",
       "2                                         669.86   \n",
       "3                                         732.62   \n",
       "4                                         731.25   \n",
       "\n",
       "   Cost of Production (`/Quintal) - C2 - 2009-10  \\\n",
       "0                                         932.50   \n",
       "1                                         793.65   \n",
       "2                                         773.18   \n",
       "3                                         812.97   \n",
       "4                                         865.12   \n",
       "\n",
       "   Cost of Production (`/Quintal) - C2 - 2010-11  \\\n",
       "0                                         916.98   \n",
       "1                                         955.59   \n",
       "2                                         836.46   \n",
       "3                                         806.87   \n",
       "4                                        1022.83   \n",
       "\n",
       "   Cost of Production (`/Quintal) - C2 - 2011-12  \\\n",
       "0                                         976.36   \n",
       "1                                        1221.44   \n",
       "2                                         904.30   \n",
       "3                                         957.83   \n",
       "4                                        1085.76   \n",
       "\n",
       "   Cost of Production (`/Quintal) - C2 - 2012-13  \\\n",
       "0                                        1135.01   \n",
       "1                                        1159.54   \n",
       "2                                         945.73   \n",
       "3                                        1019.43   \n",
       "4                                        1236.05   \n",
       "\n",
       "   Cost of Production (`/Quintal) - C2 - 2013-14  \n",
       "0                                        1248.20  \n",
       "1                                        1408.40  \n",
       "2                                        1043.27  \n",
       "3                                        1031.23  \n",
       "4                                        1366.80  "
      ]
     },
     "execution_count": 7,
     "metadata": {},
     "output_type": "execute_result"
    }
   ],
   "source": [
    "culti_cost=pd.read_csv(\"culti_cost.csv\",delimiter=',')\n",
    "culti_cost=culti_cost.fillna(0)\n",
    "# print(sum(culti_cost.isna()))\n",
    "state_cult = sorted(set(culti_cost.iloc[:,1]))\n",
    "print(culti_cost.shape)\n",
    "culti_cost.head()"
   ]
  },
  {
   "cell_type": "markdown",
   "metadata": {},
   "source": [
    "## Visualización de bases de datos:\n",
    "#### Datos de precios de cultivos"
   ]
  },
  {
   "cell_type": "code",
   "execution_count": 8,
   "metadata": {},
   "outputs": [
    {
     "data": {
      "image/png": "[encoded data removed]",
      "text/plain": [
       "<Figure size 1440x360 with 2 Axes>"
      ]
     },
     "metadata": {
      "needs_background": "light"
     },
     "output_type": "display_data"
    }
   ],
   "source": [
    "mat1 = np.matrix(crop_price.values[:,1:],dtype='float')\n",
    "fig = plt.figure(num=2,figsize=(20,5))\n",
    "ax = fig.add_subplot(1,1,1)\n",
    "plt.imshow(mat1.T, cmap='Reds')\n",
    "ax.set_yticks(np.arange(len(crop_price.columns[1:])))\n",
    "ax.set_xticks(np.arange(len(crop_price.iloc[:,0])))\n",
    "ax.set_yticklabels(crop_price.columns[1:])\n",
    "ax.set_xticklabels(crop_price.iloc[:,0],rotation='vertical')\n",
    "plt.colorbar()\n",
    "plt.title('Precio de cultivos')\n",
    "plt.show()"
   ]
  },
  {
   "cell_type": "markdown",
   "metadata": {},
   "source": [
    "#### Área de siembra por cada cultivo"
   ]
  },
  {
   "cell_type": "code",
   "execution_count": 9,
   "metadata": {},
   "outputs": [
    {
     "data": {
      "image/png": "[encoded data removed]",
      "text/plain": [
       "<Figure size 1440x360 with 2 Axes>"
      ]
     },
     "metadata": {
      "needs_background": "light"
     },
     "output_type": "display_data"
    }
   ],
   "source": [
    "mat2 = np.matrix(area_cult.values[:,1:],dtype='float')\n",
    "# print(mat2.shape)\n",
    "mat2=np.delete(mat2,12,1)\n",
    "# print(mat2.shape)\n",
    "fig = plt.figure(num=3,figsize=(20,5))\n",
    "ax = fig.add_subplot(1,1,1)\n",
    "# ax.set_aspect('equal')\n",
    "ax.set_xticks(np.arange(len(np.delete(area_cult.columns[1:],12))))\n",
    "ax.set_yticks(np.arange(len(area_cult.iloc[:,0])))\n",
    "ax.set_xticklabels(np.delete(area_cult.columns[1:],12),rotation='vertical')\n",
    "ax.set_yticklabels(area_cult.iloc[:,0])\n",
    "plt.imshow(mat2, cmap='Purples')\n",
    "plt.colorbar()\n",
    "plt.title('Cultivation Area')\n",
    "plt.show()"
   ]
  },
  {
   "cell_type": "markdown",
   "metadata": {},
   "source": [
    "#### Costo de cultivo de los principales cultivos (A2 + FL y c2):"
   ]
  },
  {
   "cell_type": "code",
   "execution_count": 10,
   "metadata": {},
   "outputs": [
    {
     "data": {
      "image/png": "[encoded data removed]",
      "text/plain": [
       "<Figure size 1440x360 with 2 Axes>"
      ]
     },
     "metadata": {
      "needs_background": "light"
     },
     "output_type": "display_data"
    }
   ],
   "source": [
    "mat3 = np.matrix(culti_cost.values[:,2:14],dtype='float').T\n",
    "fig = plt.figure(num=3,figsize=(20,5))\n",
    "ax = fig.add_subplot(1,1,1)\n",
    "# ax.set_aspect('equal')\n",
    "ax.set_yticks(np.arange(len(culti_cost.columns[2:14])))\n",
    "ax.set_xticks(np.arange(len(culti_cost.values[:,0]+' , '+culti_cost.values[:,1])))\n",
    "ax.set_yticklabels(culti_cost.columns[2:14])\n",
    "ax.set_xticklabels(culti_cost.values[:,0]+' , '+culti_cost.values[:,1],rotation='vertical')\n",
    "plt.imshow(mat3, cmap='Greens')\n",
    "plt.colorbar()\n",
    "plt.title('Coste de cultivo de los principales cultivos')\n",
    "plt.show()"
   ]
  },
  {
   "cell_type": "markdown",
   "metadata": {},
   "source": [
    "#### Costo de cultivo de los principales cultivos por quintal en ese estado:"
   ]
  },
  {
   "cell_type": "code",
   "execution_count": 11,
   "metadata": {},
   "outputs": [
    {
     "data": {
      "image/png": "[encoded data removed]",
      "text/plain": [
       "<Figure size 2160x216 with 2 Axes>"
      ]
     },
     "metadata": {
      "needs_background": "light"
     },
     "output_type": "display_data"
    }
   ],
   "source": [
    "mat4 = np.matrix(culti_cost.values[:,14:],dtype='float').T\n",
    "fig = plt.figure(num=4,figsize=(30,3))\n",
    "ax = fig.add_subplot(1,1,1)\n",
    "# ax.set_aspect('equal')\n",
    "ax.set_yticks(np.arange(len(culti_cost.columns[14:])))\n",
    "ax.set_xticks(np.arange(len(culti_cost.values[:,0]+' , '+culti_cost.values[:,1])))\n",
    "ax.set_yticklabels(culti_cost.columns[14:])\n",
    "ax.set_xticklabels(culti_cost.values[:,0]+' , '+culti_cost.values[:,1],rotation='vertical')\n",
    "plt.imshow(mat4, cmap='Blues')\n",
    "plt.colorbar()\n",
    "plt.title('Cultivation Cost Low Priced Crops')\n",
    "plt.show()"
   ]
  },
  {
   "cell_type": "markdown",
   "metadata": {},
   "source": [
    "#### 5. Lectura de las temperaturas medias a lo largo de los años de la base de datos"
   ]
  },
  {
   "cell_type": "code",
   "execution_count": 12,
   "metadata": {},
   "outputs": [
    {
     "data": {
      "text/html": [
       "<div>\n",
       "<style scoped>\n",
       "    .dataframe tbody tr th:only-of-type {\n",
       "        vertical-align: middle;\n",
       "    }\n",
       "\n",
       "    .dataframe tbody tr th {\n",
       "        vertical-align: top;\n",
       "    }\n",
       "\n",
       "    .dataframe thead th {\n",
       "        text-align: right;\n",
       "    }\n",
       "</style>\n",
       "<table border=\"1\" class=\"dataframe\">\n",
       "  <thead>\n",
       "    <tr style=\"text-align: right;\">\n",
       "      <th></th>\n",
       "      <th>YEAR</th>\n",
       "      <th>ANNUAL</th>\n",
       "      <th>JAN-FEB</th>\n",
       "      <th>MAR-MAY</th>\n",
       "      <th>JUN-SEP</th>\n",
       "      <th>OCT-DEC</th>\n",
       "    </tr>\n",
       "  </thead>\n",
       "  <tbody>\n",
       "    <tr>\n",
       "      <th>0</th>\n",
       "      <td>2000</td>\n",
       "      <td>24.60</td>\n",
       "      <td>19.33</td>\n",
       "      <td>26.47</td>\n",
       "      <td>27.23</td>\n",
       "      <td>22.68</td>\n",
       "    </tr>\n",
       "    <tr>\n",
       "      <th>1</th>\n",
       "      <td>2001</td>\n",
       "      <td>24.73</td>\n",
       "      <td>19.75</td>\n",
       "      <td>26.82</td>\n",
       "      <td>27.47</td>\n",
       "      <td>22.52</td>\n",
       "    </tr>\n",
       "    <tr>\n",
       "      <th>2</th>\n",
       "      <td>2002</td>\n",
       "      <td>25.00</td>\n",
       "      <td>19.65</td>\n",
       "      <td>27.22</td>\n",
       "      <td>27.71</td>\n",
       "      <td>22.58</td>\n",
       "    </tr>\n",
       "    <tr>\n",
       "      <th>3</th>\n",
       "      <td>2003</td>\n",
       "      <td>24.72</td>\n",
       "      <td>19.82</td>\n",
       "      <td>26.52</td>\n",
       "      <td>27.64</td>\n",
       "      <td>22.23</td>\n",
       "    </tr>\n",
       "    <tr>\n",
       "      <th>4</th>\n",
       "      <td>2004</td>\n",
       "      <td>24.74</td>\n",
       "      <td>19.93</td>\n",
       "      <td>27.06</td>\n",
       "      <td>27.33</td>\n",
       "      <td>22.24</td>\n",
       "    </tr>\n",
       "  </tbody>\n",
       "</table>\n",
       "</div>"
      ],
      "text/plain": [
       "   YEAR  ANNUAL  JAN-FEB  MAR-MAY  JUN-SEP  OCT-DEC\n",
       "0  2000   24.60    19.33    26.47    27.23    22.68\n",
       "1  2001   24.73    19.75    26.82    27.47    22.52\n",
       "2  2002   25.00    19.65    27.22    27.71    22.58\n",
       "3  2003   24.72    19.82    26.52    27.64    22.23\n",
       "4  2004   24.74    19.93    27.06    27.33    22.24"
      ]
     },
     "execution_count": 12,
     "metadata": {},
     "output_type": "execute_result"
    }
   ],
   "source": [
    "temperature = pd.read_csv('Mean_Temperatures.csv',delimiter=',')\n",
    "temperature.head()"
   ]
  },
  {
   "cell_type": "markdown",
   "metadata": {},
   "source": [
    "#### Visualización de datos de temperatura media a lo largo de los años"
   ]
  },
  {
   "cell_type": "code",
   "execution_count": 13,
   "metadata": {},
   "outputs": [
    {
     "data": {
      "image/png": "[encoded data removed]",
      "text/plain": [
       "<Figure size 2160x216 with 2 Axes>"
      ]
     },
     "metadata": {
      "needs_background": "light"
     },
     "output_type": "display_data"
    }
   ],
   "source": [
    "mat5 = np.matrix(temperature.values[:,1:],dtype='float').T\n",
    "fig = plt.figure(num=5,figsize=(30,3))\n",
    "ax = fig.add_subplot(1,1,1)\n",
    "ax.set_yticks(np.arange(len(temperature.columns[1:])))\n",
    "ax.set_xticks(np.arange(len(temperature.values[:,0])))\n",
    "ax.set_yticklabels(temperature.columns[1:])\n",
    "ax.set_xticklabels(temperature.values[:,0].astype(int),rotation='vertical')\n",
    "plt.imshow(mat5, cmap='Blues')\n",
    "plt.colorbar()\n",
    "plt.title('Temperature Variations')\n",
    "plt.show()"
   ]
  },
  {
   "cell_type": "markdown",
   "metadata": {},
   "source": [
    "#### 6. Leer los datos de las precipitaciones anuales en diferentes estados"
   ]
  },
  {
   "cell_type": "code",
   "execution_count": 14,
   "metadata": {},
   "outputs": [
    {
     "data": {
      "text/html": [
       "<div>\n",
       "<style scoped>\n",
       "    .dataframe tbody tr th:only-of-type {\n",
       "        vertical-align: middle;\n",
       "    }\n",
       "\n",
       "    .dataframe tbody tr th {\n",
       "        vertical-align: top;\n",
       "    }\n",
       "\n",
       "    .dataframe thead th {\n",
       "        text-align: right;\n",
       "    }\n",
       "</style>\n",
       "<table border=\"1\" class=\"dataframe\">\n",
       "  <thead>\n",
       "    <tr style=\"text-align: right;\">\n",
       "      <th></th>\n",
       "      <th>STATES</th>\n",
       "      <th>YEAR</th>\n",
       "      <th>JAN</th>\n",
       "      <th>FEB</th>\n",
       "      <th>MAR</th>\n",
       "      <th>APR</th>\n",
       "      <th>MAY</th>\n",
       "      <th>JUN</th>\n",
       "      <th>JUL</th>\n",
       "      <th>AUG</th>\n",
       "      <th>SEP</th>\n",
       "      <th>OCT</th>\n",
       "      <th>NOV</th>\n",
       "      <th>DEC</th>\n",
       "      <th>ANNUAL</th>\n",
       "    </tr>\n",
       "  </thead>\n",
       "  <tbody>\n",
       "    <tr>\n",
       "      <th>0</th>\n",
       "      <td>ANDAMAN &amp; NICOBAR ISLANDS</td>\n",
       "      <td>2000</td>\n",
       "      <td>53.0</td>\n",
       "      <td>59.0</td>\n",
       "      <td>171.3</td>\n",
       "      <td>218.1</td>\n",
       "      <td>422.8</td>\n",
       "      <td>357.0</td>\n",
       "      <td>176.3</td>\n",
       "      <td>460.8</td>\n",
       "      <td>250.1</td>\n",
       "      <td>321.2</td>\n",
       "      <td>158.3</td>\n",
       "      <td>115.2</td>\n",
       "      <td>2763.2</td>\n",
       "    </tr>\n",
       "    <tr>\n",
       "      <th>1</th>\n",
       "      <td>ANDAMAN &amp; NICOBAR ISLANDS</td>\n",
       "      <td>2001</td>\n",
       "      <td>89.0</td>\n",
       "      <td>15.7</td>\n",
       "      <td>143.3</td>\n",
       "      <td>30.1</td>\n",
       "      <td>705.3</td>\n",
       "      <td>370.7</td>\n",
       "      <td>341.3</td>\n",
       "      <td>469.0</td>\n",
       "      <td>334.4</td>\n",
       "      <td>267.6</td>\n",
       "      <td>222.6</td>\n",
       "      <td>91.8</td>\n",
       "      <td>3080.9</td>\n",
       "    </tr>\n",
       "    <tr>\n",
       "      <th>2</th>\n",
       "      <td>ANDAMAN &amp; NICOBAR ISLANDS</td>\n",
       "      <td>2002</td>\n",
       "      <td>10.6</td>\n",
       "      <td>0.0</td>\n",
       "      <td>11.5</td>\n",
       "      <td>100.2</td>\n",
       "      <td>366.7</td>\n",
       "      <td>358.3</td>\n",
       "      <td>317.4</td>\n",
       "      <td>429.8</td>\n",
       "      <td>420.0</td>\n",
       "      <td>169.0</td>\n",
       "      <td>306.7</td>\n",
       "      <td>129.9</td>\n",
       "      <td>2620.2</td>\n",
       "    </tr>\n",
       "    <tr>\n",
       "      <th>3</th>\n",
       "      <td>ANDAMAN &amp; NICOBAR ISLANDS</td>\n",
       "      <td>2003</td>\n",
       "      <td>44.3</td>\n",
       "      <td>7.9</td>\n",
       "      <td>149.2</td>\n",
       "      <td>19.4</td>\n",
       "      <td>296.3</td>\n",
       "      <td>159.9</td>\n",
       "      <td>494.9</td>\n",
       "      <td>379.4</td>\n",
       "      <td>371.9</td>\n",
       "      <td>310.4</td>\n",
       "      <td>74.1</td>\n",
       "      <td>48.0</td>\n",
       "      <td>2355.9</td>\n",
       "    </tr>\n",
       "    <tr>\n",
       "      <th>4</th>\n",
       "      <td>ANDAMAN &amp; NICOBAR ISLANDS</td>\n",
       "      <td>2004</td>\n",
       "      <td>54.5</td>\n",
       "      <td>35.9</td>\n",
       "      <td>36.5</td>\n",
       "      <td>41.6</td>\n",
       "      <td>505.1</td>\n",
       "      <td>423.9</td>\n",
       "      <td>378.9</td>\n",
       "      <td>308.7</td>\n",
       "      <td>280.7</td>\n",
       "      <td>223.9</td>\n",
       "      <td>169.9</td>\n",
       "      <td>0.4</td>\n",
       "      <td>2460.1</td>\n",
       "    </tr>\n",
       "  </tbody>\n",
       "</table>\n",
       "</div>"
      ],
      "text/plain": [
       "                      STATES  YEAR   JAN   FEB    MAR    APR    MAY    JUN  \\\n",
       "0  ANDAMAN & NICOBAR ISLANDS  2000  53.0  59.0  171.3  218.1  422.8  357.0   \n",
       "1  ANDAMAN & NICOBAR ISLANDS  2001  89.0  15.7  143.3   30.1  705.3  370.7   \n",
       "2  ANDAMAN & NICOBAR ISLANDS  2002  10.6   0.0   11.5  100.2  366.7  358.3   \n",
       "3  ANDAMAN & NICOBAR ISLANDS  2003  44.3   7.9  149.2   19.4  296.3  159.9   \n",
       "4  ANDAMAN & NICOBAR ISLANDS  2004  54.5  35.9   36.5   41.6  505.1  423.9   \n",
       "\n",
       "     JUL    AUG    SEP    OCT    NOV    DEC  ANNUAL  \n",
       "0  176.3  460.8  250.1  321.2  158.3  115.2  2763.2  \n",
       "1  341.3  469.0  334.4  267.6  222.6   91.8  3080.9  \n",
       "2  317.4  429.8  420.0  169.0  306.7  129.9  2620.2  \n",
       "3  494.9  379.4  371.9  310.4   74.1   48.0  2355.9  \n",
       "4  378.9  308.7  280.7  223.9  169.9    0.4  2460.1  "
      ]
     },
     "execution_count": 14,
     "metadata": {},
     "output_type": "execute_result"
    }
   ],
   "source": [
    "rainfall =  pd.read_csv('rainfall_cleaned.csv',delimiter=',')\n",
    "rainfall.head()"
   ]
  },
  {
   "cell_type": "markdown",
   "metadata": {},
   "source": [
    "#### Modificación de datos para observación"
   ]
  },
  {
   "cell_type": "code",
   "execution_count": 15,
   "metadata": {},
   "outputs": [],
   "source": [
    "rainfall1=rainfall.copy()\n",
    "rainfall1 = rainfall1.groupby(['STATES','YEAR'],as_index=True).mean()\n",
    "# rainfall1.iloc[:,12].unstack(level=-1).reset_index().head()"
   ]
  },
  {
   "cell_type": "markdown",
   "metadata": {},
   "source": [
    "#### Visualización de datos de lluvia anual a lo largo de los años"
   ]
  },
  {
   "cell_type": "code",
   "execution_count": 16,
   "metadata": {},
   "outputs": [
    {
     "data": {
      "image/png": "[encoded data removed]",
      "text/plain": [
       "<Figure size 1296x576 with 2 Axes>"
      ]
     },
     "metadata": {
      "needs_background": "light"
     },
     "output_type": "display_data"
    }
   ],
   "source": [
    "mat6 = np.matrix(rainfall1.iloc[:,12].unstack(level=-1).reset_index().values[:,1:],dtype='float').T\n",
    "fig = plt.figure(num=6,figsize=(18,8))\n",
    "ax = fig.add_subplot(1,1,1)\n",
    "ax.set_yticks(np.arange(len(rainfall1.iloc[:,12].unstack(level=-1).reset_index().columns[1:])))\n",
    "ax.set_xticks(np.arange(len(rainfall1.iloc[:,12].unstack(level=-1).reset_index().values[:,0])))\n",
    "ax.set_yticklabels(rainfall1.iloc[:,12].unstack(level=-1).reset_index().columns[1:])\n",
    "ax.set_xticklabels(rainfall1.iloc[:,12].unstack(level=-1).reset_index().values[:,0],rotation='vertical')\n",
    "plt.imshow(mat6, cmap='Blues')\n",
    "plt.colorbar()\n",
    "plt.title('lluvia anual en mm/ft2')\n",
    "plt.show()"
   ]
  },
  {
   "cell_type": "markdown",
   "metadata": {},
   "source": [
    "#### 7. Lectura de datos para la tasa de crecimiento de los principales cultivos a lo largo de los años"
   ]
  },
  {
   "cell_type": "code",
   "execution_count": 17,
   "metadata": {},
   "outputs": [
    {
     "data": {
      "text/html": [
       "<div>\n",
       "<style scoped>\n",
       "    .dataframe tbody tr th:only-of-type {\n",
       "        vertical-align: middle;\n",
       "    }\n",
       "\n",
       "    .dataframe tbody tr th {\n",
       "        vertical-align: top;\n",
       "    }\n",
       "\n",
       "    .dataframe thead th {\n",
       "        text-align: right;\n",
       "    }\n",
       "</style>\n",
       "<table border=\"1\" class=\"dataframe\">\n",
       "  <thead>\n",
       "    <tr style=\"text-align: right;\">\n",
       "      <th></th>\n",
       "      <th>Crop</th>\n",
       "      <th>(Ninth Plan) 1997-98 to 2001-02</th>\n",
       "      <th>(Tenth Plan) 2002-03 to 2006-07</th>\n",
       "      <th>(Eleventh Plan) 2007-08 to 2011-12</th>\n",
       "    </tr>\n",
       "  </thead>\n",
       "  <tbody>\n",
       "    <tr>\n",
       "      <th>0</th>\n",
       "      <td>Wheat</td>\n",
       "      <td>0.7</td>\n",
       "      <td>-0.3</td>\n",
       "      <td>3.0</td>\n",
       "    </tr>\n",
       "    <tr>\n",
       "      <th>1</th>\n",
       "      <td>Rice</td>\n",
       "      <td>2.1</td>\n",
       "      <td>1.2</td>\n",
       "      <td>2.2</td>\n",
       "    </tr>\n",
       "    <tr>\n",
       "      <th>2</th>\n",
       "      <td>Jowar</td>\n",
       "      <td>0.2</td>\n",
       "      <td>2.1</td>\n",
       "      <td>3.1</td>\n",
       "    </tr>\n",
       "    <tr>\n",
       "      <th>3</th>\n",
       "      <td>Bajra</td>\n",
       "      <td>4.9</td>\n",
       "      <td>7.3</td>\n",
       "      <td>8.4</td>\n",
       "    </tr>\n",
       "    <tr>\n",
       "      <th>4</th>\n",
       "      <td>Maize</td>\n",
       "      <td>3.1</td>\n",
       "      <td>-0.2</td>\n",
       "      <td>6.5</td>\n",
       "    </tr>\n",
       "  </tbody>\n",
       "</table>\n",
       "</div>"
      ],
      "text/plain": [
       "    Crop  (Ninth Plan) 1997-98 to 2001-02  (Tenth Plan) 2002-03 to 2006-07  \\\n",
       "0  Wheat                              0.7                             -0.3   \n",
       "1   Rice                              2.1                              1.2   \n",
       "2  Jowar                              0.2                              2.1   \n",
       "3  Bajra                              4.9                              7.3   \n",
       "4  Maize                              3.1                             -0.2   \n",
       "\n",
       "   (Eleventh Plan) 2007-08 to 2011-12  \n",
       "0                                 3.0  \n",
       "1                                 2.2  \n",
       "2                                 3.1  \n",
       "3                                 8.4  \n",
       "4                                 6.5  "
      ]
     },
     "execution_count": 17,
     "metadata": {},
     "output_type": "execute_result"
    }
   ],
   "source": [
    "growth = pd.read_csv('Avg annual Growth Rate_Major Crops.csv',delimiter = ',')\n",
    "growth = pd.concat([growth.iloc[:,0],growth.iloc[:,5:]],axis=1,sort=False)\n",
    "growth = growth.dropna()\n",
    "growth.head()"
   ]
  },
  {
   "cell_type": "markdown",
   "metadata": {},
   "source": [
    "#### Visualización de datos de tasa de crecimiento"
   ]
  },
  {
   "cell_type": "code",
   "execution_count": 18,
   "metadata": {},
   "outputs": [
    {
     "data": {
      "image/png": "[encoded data removed]",
      "text/plain": [
       "<Figure size 2160x216 with 2 Axes>"
      ]
     },
     "metadata": {
      "needs_background": "light"
     },
     "output_type": "display_data"
    }
   ],
   "source": [
    "mat7 = np.matrix(growth.values[:,1:],dtype='float').T\n",
    "fig = plt.figure(num=5,figsize=(30,3))\n",
    "ax = fig.add_subplot(1,1,1)\n",
    "ax.set_yticks(np.arange(len(growth.columns[1:])))\n",
    "ax.set_xticks(np.arange(len(growth.values[:,0])))\n",
    "ax.set_yticklabels(growth.columns[1:])\n",
    "ax.set_xticklabels(growth.values[:,0],rotation='vertical')\n",
    "plt.imshow(mat7, cmap='Blues')\n",
    "plt.colorbar()\n",
    "plt.title('Growth rate of major crops')\n",
    "plt.show()"
   ]
  },
  {
   "cell_type": "markdown",
   "metadata": {},
   "source": [
    "#### 8. Lectura de la base de datos del número de suicidios en varios estados a lo largo de los años."
   ]
  },
  {
   "cell_type": "code",
   "execution_count": 19,
   "metadata": {},
   "outputs": [
    {
     "data": {
      "text/html": [
       "<div>\n",
       "<style scoped>\n",
       "    .dataframe tbody tr th:only-of-type {\n",
       "        vertical-align: middle;\n",
       "    }\n",
       "\n",
       "    .dataframe tbody tr th {\n",
       "        vertical-align: top;\n",
       "    }\n",
       "\n",
       "    .dataframe thead th {\n",
       "        text-align: right;\n",
       "    }\n",
       "</style>\n",
       "<table border=\"1\" class=\"dataframe\">\n",
       "  <thead>\n",
       "    <tr style=\"text-align: right;\">\n",
       "      <th></th>\n",
       "      <th>State/UT</th>\n",
       "      <th>2010</th>\n",
       "      <th>2011</th>\n",
       "      <th>2012</th>\n",
       "      <th>2013</th>\n",
       "      <th>2014</th>\n",
       "    </tr>\n",
       "  </thead>\n",
       "  <tbody>\n",
       "    <tr>\n",
       "      <th>0</th>\n",
       "      <td>ANDHRA PRADESH</td>\n",
       "      <td>2525.0</td>\n",
       "      <td>2206.0</td>\n",
       "      <td>2572.0</td>\n",
       "      <td>2014.0</td>\n",
       "      <td>160</td>\n",
       "    </tr>\n",
       "    <tr>\n",
       "      <th>1</th>\n",
       "      <td>ARUNACHAL PRADESH</td>\n",
       "      <td>18.0</td>\n",
       "      <td>13.0</td>\n",
       "      <td>11.0</td>\n",
       "      <td>37.0</td>\n",
       "      <td>0</td>\n",
       "    </tr>\n",
       "    <tr>\n",
       "      <th>2</th>\n",
       "      <td>ASSAM</td>\n",
       "      <td>369.0</td>\n",
       "      <td>312.0</td>\n",
       "      <td>344.0</td>\n",
       "      <td>305.0</td>\n",
       "      <td>21</td>\n",
       "    </tr>\n",
       "    <tr>\n",
       "      <th>3</th>\n",
       "      <td>BIHAR</td>\n",
       "      <td>95.0</td>\n",
       "      <td>83.0</td>\n",
       "      <td>68.0</td>\n",
       "      <td>127.0</td>\n",
       "      <td>0</td>\n",
       "    </tr>\n",
       "    <tr>\n",
       "      <th>4</th>\n",
       "      <td>CHHATTISGARH</td>\n",
       "      <td>1126.0</td>\n",
       "      <td>0.0</td>\n",
       "      <td>4.0</td>\n",
       "      <td>0.0</td>\n",
       "      <td>443</td>\n",
       "    </tr>\n",
       "  </tbody>\n",
       "</table>\n",
       "</div>"
      ],
      "text/plain": [
       "            State/UT    2010    2011    2012    2013  2014\n",
       "0     ANDHRA PRADESH  2525.0  2206.0  2572.0  2014.0   160\n",
       "1  ARUNACHAL PRADESH    18.0    13.0    11.0    37.0     0\n",
       "2              ASSAM   369.0   312.0   344.0   305.0    21\n",
       "3              BIHAR    95.0    83.0    68.0   127.0     0\n",
       "4       CHHATTISGARH  1126.0     0.0     4.0     0.0   443"
      ]
     },
     "execution_count": 19,
     "metadata": {},
     "output_type": "execute_result"
    }
   ],
   "source": [
    "suicides = pd.read_csv('suicides_10-14.csv',delimiter = ',')\n",
    "suicides.drop(columns={'Sl. No.','2014 - Labourers'},inplace=True)\n",
    "suicides.iloc[:,:].fillna(0,inplace=True)\n",
    "suicides.head()"
   ]
  },
  {
   "cell_type": "markdown",
   "metadata": {},
   "source": [
    "#### Visualización del número de datos de suicidios"
   ]
  },
  {
   "cell_type": "code",
   "execution_count": 20,
   "metadata": {},
   "outputs": [
    {
     "data": {
      "image/png": "[encoded data removed]",
      "text/plain": [
       "<Figure size 2160x216 with 2 Axes>"
      ]
     },
     "metadata": {
      "needs_background": "light"
     },
     "output_type": "display_data"
    }
   ],
   "source": [
    "mat8 = np.matrix(suicides.values[:,1:],dtype='float').T\n",
    "fig = plt.figure(num=5,figsize=(30,3))\n",
    "ax = fig.add_subplot(1,1,1)\n",
    "ax.set_yticks(np.arange(len(suicides.columns[1:])))\n",
    "ax.set_xticks(np.arange(len(suicides.values[:,0])))\n",
    "ax.set_yticklabels(suicides.columns[1:])\n",
    "ax.set_xticklabels(suicides.values[:,0],rotation='vertical')\n",
    "plt.imshow(mat8, cmap='BuGn')\n",
    "plt.colorbar()\n",
    "plt.title('Farmer Suicides Rates')\n",
    "plt.show()"
   ]
  },
  {
   "cell_type": "markdown",
   "metadata": {},
   "source": [
    "#### 9. Lectura de datos de exportaciones de varios productos a lo largo de los años"
   ]
  },
  {
   "cell_type": "code",
   "execution_count": 21,
   "metadata": {},
   "outputs": [
    {
     "data": {
      "text/html": [
       "<div>\n",
       "<style scoped>\n",
       "    .dataframe tbody tr th:only-of-type {\n",
       "        vertical-align: middle;\n",
       "    }\n",
       "\n",
       "    .dataframe tbody tr th {\n",
       "        vertical-align: top;\n",
       "    }\n",
       "\n",
       "    .dataframe thead th {\n",
       "        text-align: right;\n",
       "    }\n",
       "</style>\n",
       "<table border=\"1\" class=\"dataframe\">\n",
       "  <thead>\n",
       "    <tr style=\"text-align: right;\">\n",
       "      <th></th>\n",
       "      <th>Product</th>\n",
       "      <th>variable</th>\n",
       "      <th>value</th>\n",
       "    </tr>\n",
       "  </thead>\n",
       "  <tbody>\n",
       "    <tr>\n",
       "      <th>0</th>\n",
       "      <td>Buffalo Meat</td>\n",
       "      <td>2003</td>\n",
       "      <td>343817.08</td>\n",
       "    </tr>\n",
       "    <tr>\n",
       "      <th>1</th>\n",
       "      <td>Basmati Rice</td>\n",
       "      <td>2003</td>\n",
       "      <td>771475.37</td>\n",
       "    </tr>\n",
       "    <tr>\n",
       "      <th>2</th>\n",
       "      <td>Rice</td>\n",
       "      <td>2003</td>\n",
       "      <td>2640438.93</td>\n",
       "    </tr>\n",
       "    <tr>\n",
       "      <th>3</th>\n",
       "      <td>Guargum</td>\n",
       "      <td>2003</td>\n",
       "      <td>120561.27</td>\n",
       "    </tr>\n",
       "    <tr>\n",
       "      <th>4</th>\n",
       "      <td>Wheat</td>\n",
       "      <td>2003</td>\n",
       "      <td>4093080.52</td>\n",
       "    </tr>\n",
       "  </tbody>\n",
       "</table>\n",
       "</div>"
      ],
      "text/plain": [
       "        Product  variable       value\n",
       "0  Buffalo Meat      2003   343817.08\n",
       "1  Basmati Rice      2003   771475.37\n",
       "2          Rice      2003  2640438.93\n",
       "3       Guargum      2003   120561.27\n",
       "4         Wheat      2003  4093080.52"
      ]
     },
     "execution_count": 21,
     "metadata": {},
     "output_type": "execute_result"
    }
   ],
   "source": [
    "exports = pd.read_csv('IndiaExport.csv',delimiter=',')\n",
    "to_drop = []\n",
    "for head in exports.columns[1:]:\n",
    "    if 'Unn' in head:\n",
    "        to_drop.append(head)\n",
    "exports.drop(columns = to_drop,inplace=True)\n",
    "exports = exports.drop(0)\n",
    "exports.rename(columns = {'Unnamed: 0':'Product'},inplace = True)\n",
    "for_plot = exports.copy()\n",
    "exports = exports.melt(id_vars='Product')\n",
    "exports.variable = exports.variable.astype(int)\n",
    "exports.value = exports.value.astype(float)\n",
    "exports.head()"
   ]
  },
  {
   "cell_type": "markdown",
   "metadata": {},
   "source": [
    "#### Selección de datos relacionados solo con productos agrícolas"
   ]
  },
  {
   "cell_type": "code",
   "execution_count": 22,
   "metadata": {},
   "outputs": [
    {
     "data": {
      "text/html": [
       "<div>\n",
       "<style scoped>\n",
       "    .dataframe tbody tr th:only-of-type {\n",
       "        vertical-align: middle;\n",
       "    }\n",
       "\n",
       "    .dataframe tbody tr th {\n",
       "        vertical-align: top;\n",
       "    }\n",
       "\n",
       "    .dataframe thead th {\n",
       "        text-align: right;\n",
       "    }\n",
       "</style>\n",
       "<table border=\"1\" class=\"dataframe\">\n",
       "  <thead>\n",
       "    <tr style=\"text-align: right;\">\n",
       "      <th></th>\n",
       "      <th>Product</th>\n",
       "      <th>2003</th>\n",
       "      <th>2004</th>\n",
       "      <th>2005</th>\n",
       "      <th>2006</th>\n",
       "      <th>2007</th>\n",
       "      <th>2008</th>\n",
       "      <th>2009</th>\n",
       "      <th>2010</th>\n",
       "      <th>2011</th>\n",
       "      <th>2012</th>\n",
       "      <th>2013</th>\n",
       "      <th>2014</th>\n",
       "    </tr>\n",
       "  </thead>\n",
       "  <tbody>\n",
       "    <tr>\n",
       "      <th>0</th>\n",
       "      <td>Basmati Rice</td>\n",
       "      <td>771475.37</td>\n",
       "      <td>1162989.16</td>\n",
       "      <td>1166562.79</td>\n",
       "      <td>1045714.95</td>\n",
       "      <td>1183355.73</td>\n",
       "      <td>1556411.06</td>\n",
       "      <td>2016775</td>\n",
       "      <td>2370658.39</td>\n",
       "      <td>3178174.43</td>\n",
       "      <td>3459898.93</td>\n",
       "      <td>3757271.42</td>\n",
       "      <td>3702260.07</td>\n",
       "    </tr>\n",
       "    <tr>\n",
       "      <th>1</th>\n",
       "      <td>Rice</td>\n",
       "      <td>2640438.93</td>\n",
       "      <td>3615109.55</td>\n",
       "      <td>2921601.91</td>\n",
       "      <td>3702191.99</td>\n",
       "      <td>5285916.33</td>\n",
       "      <td>931879.8</td>\n",
       "      <td>139540.76</td>\n",
       "      <td>100685.78</td>\n",
       "      <td>3997719.57</td>\n",
       "      <td>6687990.85</td>\n",
       "      <td>7133183.37</td>\n",
       "      <td>8274046.02</td>\n",
       "    </tr>\n",
       "    <tr>\n",
       "      <th>2</th>\n",
       "      <td>Guargum</td>\n",
       "      <td>120561.27</td>\n",
       "      <td>131299.98</td>\n",
       "      <td>186718.4</td>\n",
       "      <td>189304.36</td>\n",
       "      <td>211166.56</td>\n",
       "      <td>258567.56</td>\n",
       "      <td>218479.74</td>\n",
       "      <td>441607.7</td>\n",
       "      <td>707326.43</td>\n",
       "      <td>406311.81</td>\n",
       "      <td>601945.42</td>\n",
       "      <td>665177.71</td>\n",
       "    </tr>\n",
       "    <tr>\n",
       "      <th>3</th>\n",
       "      <td>Wheat</td>\n",
       "      <td>4093080.52</td>\n",
       "      <td>2009343.03</td>\n",
       "      <td>746173.23</td>\n",
       "      <td>46633.21</td>\n",
       "      <td>237.27</td>\n",
       "      <td>1120.52</td>\n",
       "      <td>47.3</td>\n",
       "      <td>394.47</td>\n",
       "      <td>740746.76</td>\n",
       "      <td>6514810.6</td>\n",
       "      <td>5562374.74</td>\n",
       "      <td>2924070.18</td>\n",
       "    </tr>\n",
       "    <tr>\n",
       "      <th>4</th>\n",
       "      <td>Groundnuts</td>\n",
       "      <td>176109.32</td>\n",
       "      <td>177154.08</td>\n",
       "      <td>190053.34</td>\n",
       "      <td>251428.65</td>\n",
       "      <td>269587.64</td>\n",
       "      <td>297890.37</td>\n",
       "      <td>340246.31</td>\n",
       "      <td>433753.23</td>\n",
       "      <td>832616.93</td>\n",
       "      <td>535637.36</td>\n",
       "      <td>509664.84</td>\n",
       "      <td>708386.26</td>\n",
       "    </tr>\n",
       "  </tbody>\n",
       "</table>\n",
       "</div>"
      ],
      "text/plain": [
       "        Product        2003        2004        2005        2006        2007  \\\n",
       "0  Basmati Rice   771475.37  1162989.16  1166562.79  1045714.95  1183355.73   \n",
       "1          Rice  2640438.93  3615109.55  2921601.91  3702191.99  5285916.33   \n",
       "2       Guargum   120561.27   131299.98    186718.4   189304.36   211166.56   \n",
       "3         Wheat  4093080.52  2009343.03   746173.23    46633.21      237.27   \n",
       "4    Groundnuts   176109.32   177154.08   190053.34   251428.65   269587.64   \n",
       "\n",
       "         2008       2009        2010        2011        2012        2013  \\\n",
       "0  1556411.06    2016775  2370658.39  3178174.43  3459898.93  3757271.42   \n",
       "1    931879.8  139540.76   100685.78  3997719.57  6687990.85  7133183.37   \n",
       "2   258567.56  218479.74    441607.7   707326.43   406311.81   601945.42   \n",
       "3     1120.52       47.3      394.47   740746.76   6514810.6  5562374.74   \n",
       "4   297890.37  340246.31   433753.23   832616.93   535637.36   509664.84   \n",
       "\n",
       "         2014  \n",
       "0  3702260.07  \n",
       "1  8274046.02  \n",
       "2   665177.71  \n",
       "3  2924070.18  \n",
       "4   708386.26  "
      ]
     },
     "execution_count": 22,
     "metadata": {},
     "output_type": "execute_result"
    }
   ],
   "source": [
    "plot_exports=for_plot.copy()\n",
    "plot_exports=plot_exports.reset_index(drop=True)\n",
    "to_drop=[]\n",
    "ct=0\n",
    "for head in plot_exports.Product:\n",
    "    if 'Meat' in head:\n",
    "        to_drop.append(head)\n",
    "        plot_exports.drop(ct,inplace=True)\n",
    "    ct+=1\n",
    "plot_exports.drop([9,15,23,26,29,32],inplace=True)\n",
    "plot_exports = plot_exports.reset_index(drop=True)\n",
    "plot_exports.Product[plot_exports.Product=='Cucumber and Gherkins( Prepd. & Presvd)'] = 'Cucumber and Gherkins'\n",
    "plot_exports.head()"
   ]
  },
  {
   "cell_type": "markdown",
   "metadata": {},
   "source": [
    "#### Visualización de exportaciones de productos agrícolas"
   ]
  },
  {
   "cell_type": "code",
   "execution_count": 23,
   "metadata": {},
   "outputs": [
    {
     "data": {
      "image/png": "[encoded data removed]",
      "text/plain": [
       "<Figure size 1440x432 with 2 Axes>"
      ]
     },
     "metadata": {
      "needs_background": "light"
     },
     "output_type": "display_data"
    }
   ],
   "source": [
    "mat8 = np.matrix(plot_exports.values[:,1:],dtype='float').T\n",
    "fig = plt.figure(num=5,figsize=(20,6))\n",
    "ax = fig.add_subplot(1,1,1)\n",
    "ax.set_yticks(np.arange(len(plot_exports.columns[1:])))\n",
    "ax.set_xticks(np.arange(len(plot_exports.values[:,0])))\n",
    "ax.set_yticklabels(plot_exports.columns[1:])\n",
    "ax.set_xticklabels(plot_exports.values[:,0],rotation='vertical')\n",
    "plt.imshow(mat8, cmap='Reds')\n",
    "plt.colorbar()\n",
    "plt.title('Exports Year wise')\n",
    "plt.show()"
   ]
  },
  {
   "cell_type": "markdown",
   "metadata": {},
   "source": [
    "#### Separar los datos del área de la tabla de datos principal"
   ]
  },
  {
   "cell_type": "code",
   "execution_count": 24,
   "metadata": {},
   "outputs": [
    {
     "data": {
      "text/html": [
       "<div>\n",
       "<style scoped>\n",
       "    .dataframe tbody tr th:only-of-type {\n",
       "        vertical-align: middle;\n",
       "    }\n",
       "\n",
       "    .dataframe tbody tr th {\n",
       "        vertical-align: top;\n",
       "    }\n",
       "\n",
       "    .dataframe thead th {\n",
       "        text-align: right;\n",
       "    }\n",
       "</style>\n",
       "<table border=\"1\" class=\"dataframe\">\n",
       "  <thead>\n",
       "    <tr style=\"text-align: right;\">\n",
       "      <th></th>\n",
       "      <th>State_Name</th>\n",
       "      <th>Crop_Year</th>\n",
       "      <th>Crop</th>\n",
       "      <th>Area</th>\n",
       "    </tr>\n",
       "  </thead>\n",
       "  <tbody>\n",
       "    <tr>\n",
       "      <th>0</th>\n",
       "      <td>Andaman and Nicobar Islands</td>\n",
       "      <td>2000</td>\n",
       "      <td>Arecanut</td>\n",
       "      <td>4354.0</td>\n",
       "    </tr>\n",
       "    <tr>\n",
       "      <th>1</th>\n",
       "      <td>Andaman and Nicobar Islands</td>\n",
       "      <td>2000</td>\n",
       "      <td>Other Kharif pulses</td>\n",
       "      <td>670.0</td>\n",
       "    </tr>\n",
       "    <tr>\n",
       "      <th>2</th>\n",
       "      <td>Andaman and Nicobar Islands</td>\n",
       "      <td>2000</td>\n",
       "      <td>Rice</td>\n",
       "      <td>10881.0</td>\n",
       "    </tr>\n",
       "    <tr>\n",
       "      <th>3</th>\n",
       "      <td>Andaman and Nicobar Islands</td>\n",
       "      <td>2000</td>\n",
       "      <td>Banana</td>\n",
       "      <td>1707.0</td>\n",
       "    </tr>\n",
       "    <tr>\n",
       "      <th>4</th>\n",
       "      <td>Andaman and Nicobar Islands</td>\n",
       "      <td>2000</td>\n",
       "      <td>Cashewnut</td>\n",
       "      <td>800.0</td>\n",
       "    </tr>\n",
       "  </tbody>\n",
       "</table>\n",
       "</div>"
      ],
      "text/plain": [
       "                    State_Name  Crop_Year                 Crop     Area\n",
       "0  Andaman and Nicobar Islands       2000             Arecanut   4354.0\n",
       "1  Andaman and Nicobar Islands       2000  Other Kharif pulses    670.0\n",
       "2  Andaman and Nicobar Islands       2000                 Rice  10881.0\n",
       "3  Andaman and Nicobar Islands       2000               Banana   1707.0\n",
       "4  Andaman and Nicobar Islands       2000            Cashewnut    800.0"
      ]
     },
     "execution_count": 24,
     "metadata": {},
     "output_type": "execute_result"
    }
   ],
   "source": [
    "area = crop_prod.copy()\n",
    "area = area.loc[area.loc[:,'Crop_Year'] >=2000,:]\n",
    "area.drop(columns={'Production'},inplace=True)\n",
    "area = area.groupby(['State_Name','Crop_Year','Crop'],as_index=False,sort=False).sum()\n",
    "area.head()"
   ]
  },
  {
   "cell_type": "markdown",
   "metadata": {},
   "source": [
    "#### Separar los datos de producción de la tabla de datos principal"
   ]
  },
  {
   "cell_type": "code",
   "execution_count": 25,
   "metadata": {},
   "outputs": [
    {
     "data": {
      "text/html": [
       "<div>\n",
       "<style scoped>\n",
       "    .dataframe tbody tr th:only-of-type {\n",
       "        vertical-align: middle;\n",
       "    }\n",
       "\n",
       "    .dataframe tbody tr th {\n",
       "        vertical-align: top;\n",
       "    }\n",
       "\n",
       "    .dataframe thead th {\n",
       "        text-align: right;\n",
       "    }\n",
       "</style>\n",
       "<table border=\"1\" class=\"dataframe\">\n",
       "  <thead>\n",
       "    <tr style=\"text-align: right;\">\n",
       "      <th></th>\n",
       "      <th>State_Name</th>\n",
       "      <th>Crop_Year</th>\n",
       "      <th>Crop</th>\n",
       "      <th>Production</th>\n",
       "    </tr>\n",
       "  </thead>\n",
       "  <tbody>\n",
       "    <tr>\n",
       "      <th>0</th>\n",
       "      <td>Andaman and Nicobar Islands</td>\n",
       "      <td>2000</td>\n",
       "      <td>Arecanut</td>\n",
       "      <td>7200.0</td>\n",
       "    </tr>\n",
       "    <tr>\n",
       "      <th>1</th>\n",
       "      <td>Andaman and Nicobar Islands</td>\n",
       "      <td>2000</td>\n",
       "      <td>Other Kharif pulses</td>\n",
       "      <td>449.0</td>\n",
       "    </tr>\n",
       "    <tr>\n",
       "      <th>2</th>\n",
       "      <td>Andaman and Nicobar Islands</td>\n",
       "      <td>2000</td>\n",
       "      <td>Rice</td>\n",
       "      <td>32184.0</td>\n",
       "    </tr>\n",
       "    <tr>\n",
       "      <th>3</th>\n",
       "      <td>Andaman and Nicobar Islands</td>\n",
       "      <td>2000</td>\n",
       "      <td>Banana</td>\n",
       "      <td>12714.0</td>\n",
       "    </tr>\n",
       "    <tr>\n",
       "      <th>4</th>\n",
       "      <td>Andaman and Nicobar Islands</td>\n",
       "      <td>2000</td>\n",
       "      <td>Cashewnut</td>\n",
       "      <td>219.0</td>\n",
       "    </tr>\n",
       "  </tbody>\n",
       "</table>\n",
       "</div>"
      ],
      "text/plain": [
       "                    State_Name  Crop_Year                 Crop  Production\n",
       "0  Andaman and Nicobar Islands       2000             Arecanut      7200.0\n",
       "1  Andaman and Nicobar Islands       2000  Other Kharif pulses       449.0\n",
       "2  Andaman and Nicobar Islands       2000                 Rice     32184.0\n",
       "3  Andaman and Nicobar Islands       2000               Banana     12714.0\n",
       "4  Andaman and Nicobar Islands       2000            Cashewnut       219.0"
      ]
     },
     "execution_count": 25,
     "metadata": {},
     "output_type": "execute_result"
    }
   ],
   "source": [
    "production = pd.concat([crop_prod.iloc[:,0:5],crop_prod.iloc[:,6:7]],axis=1)\n",
    "production = production.loc[production.loc[:,'Crop_Year'] >=2000,:]\n",
    "# production.drop(columns={'Production'},inplace=True)\n",
    "production = production.groupby(['State_Name','Crop_Year','Crop'],as_index=False,sort=False).sum()\n",
    "production.Crop[production.Crop == 'Paddy'] = 'Rice'\n",
    "production.Crop[production.Crop == 'Moong(Green Gram)'] = 'Moong'\n",
    "production.head()"
   ]
  },
  {
   "cell_type": "markdown",
   "metadata": {},
   "source": [
    "#### Conversión de nombres en la forma requerida tanto en la tabla de precios de área como de cultivo"
   ]
  },
  {
   "cell_type": "code",
   "execution_count": 27,
   "metadata": {},
   "outputs": [
    {
     "ename": "AttributeError",
     "evalue": "'DataFrame' object has no attribute 'Commodities'",
     "output_type": "error",
     "traceback": [
      "\u001b[0;31m---------------------------------------------------------------------------\u001b[0m",
      "\u001b[0;31mAttributeError\u001b[0m                            Traceback (most recent call last)",
      "\u001b[0;32m/tmp/ipykernel_14311/2526212138.py\u001b[0m in \u001b[0;36m<module>\u001b[0;34m\u001b[0m\n\u001b[1;32m      2\u001b[0m \u001b[0marea\u001b[0m\u001b[0;34m.\u001b[0m\u001b[0mCrop\u001b[0m\u001b[0;34m[\u001b[0m\u001b[0marea\u001b[0m\u001b[0;34m.\u001b[0m\u001b[0mCrop\u001b[0m \u001b[0;34m==\u001b[0m \u001b[0;34m'Moong(Green Gram)'\u001b[0m\u001b[0;34m]\u001b[0m \u001b[0;34m=\u001b[0m \u001b[0;34m'Moong'\u001b[0m\u001b[0;34m\u001b[0m\u001b[0;34m\u001b[0m\u001b[0m\n\u001b[1;32m      3\u001b[0m \u001b[0mlist_area\u001b[0m\u001b[0;34m=\u001b[0m\u001b[0msort\u001b[0m\u001b[0;34m(\u001b[0m\u001b[0marea\u001b[0m\u001b[0;34m.\u001b[0m\u001b[0mCrop\u001b[0m\u001b[0;34m.\u001b[0m\u001b[0munique\u001b[0m\u001b[0;34m(\u001b[0m\u001b[0;34m)\u001b[0m\u001b[0;34m)\u001b[0m\u001b[0;34m\u001b[0m\u001b[0;34m\u001b[0m\u001b[0m\n\u001b[0;32m----> 4\u001b[0;31m \u001b[0mlist_price\u001b[0m\u001b[0;34m=\u001b[0m\u001b[0msort\u001b[0m\u001b[0;34m(\u001b[0m\u001b[0mcrop_price\u001b[0m\u001b[0;34m.\u001b[0m\u001b[0mCommodities\u001b[0m\u001b[0;34m.\u001b[0m\u001b[0munique\u001b[0m\u001b[0;34m(\u001b[0m\u001b[0;34m)\u001b[0m\u001b[0;34m)\u001b[0m\u001b[0;34m\u001b[0m\u001b[0;34m\u001b[0m\u001b[0m\n\u001b[0m\u001b[1;32m      5\u001b[0m \u001b[0;32mfor\u001b[0m \u001b[0mitem\u001b[0m \u001b[0;32min\u001b[0m \u001b[0mlist_price\u001b[0m\u001b[0;34m:\u001b[0m\u001b[0;34m\u001b[0m\u001b[0;34m\u001b[0m\u001b[0m\n\u001b[1;32m      6\u001b[0m     \u001b[0;32mif\u001b[0m \u001b[0;34m'Paddy'\u001b[0m \u001b[0;32min\u001b[0m \u001b[0mitem\u001b[0m\u001b[0;34m:\u001b[0m\u001b[0;34m\u001b[0m\u001b[0;34m\u001b[0m\u001b[0m\n",
      "\u001b[0;32m~/anaconda3/lib/python3.8/site-packages/pandas/core/generic.py\u001b[0m in \u001b[0;36m__getattr__\u001b[0;34m(self, name)\u001b[0m\n\u001b[1;32m   5463\u001b[0m             \u001b[0;32mif\u001b[0m \u001b[0mself\u001b[0m\u001b[0;34m.\u001b[0m\u001b[0m_info_axis\u001b[0m\u001b[0;34m.\u001b[0m\u001b[0m_can_hold_identifiers_and_holds_name\u001b[0m\u001b[0;34m(\u001b[0m\u001b[0mname\u001b[0m\u001b[0;34m)\u001b[0m\u001b[0;34m:\u001b[0m\u001b[0;34m\u001b[0m\u001b[0;34m\u001b[0m\u001b[0m\n\u001b[1;32m   5464\u001b[0m                 \u001b[0;32mreturn\u001b[0m \u001b[0mself\u001b[0m\u001b[0;34m[\u001b[0m\u001b[0mname\u001b[0m\u001b[0;34m]\u001b[0m\u001b[0;34m\u001b[0m\u001b[0;34m\u001b[0m\u001b[0m\n\u001b[0;32m-> 5465\u001b[0;31m             \u001b[0;32mreturn\u001b[0m \u001b[0mobject\u001b[0m\u001b[0;34m.\u001b[0m\u001b[0m__getattribute__\u001b[0m\u001b[0;34m(\u001b[0m\u001b[0mself\u001b[0m\u001b[0;34m,\u001b[0m \u001b[0mname\u001b[0m\u001b[0;34m)\u001b[0m\u001b[0;34m\u001b[0m\u001b[0;34m\u001b[0m\u001b[0m\n\u001b[0m\u001b[1;32m   5466\u001b[0m \u001b[0;34m\u001b[0m\u001b[0m\n\u001b[1;32m   5467\u001b[0m     \u001b[0;32mdef\u001b[0m \u001b[0m__setattr__\u001b[0m\u001b[0;34m(\u001b[0m\u001b[0mself\u001b[0m\u001b[0;34m,\u001b[0m \u001b[0mname\u001b[0m\u001b[0;34m:\u001b[0m \u001b[0mstr\u001b[0m\u001b[0;34m,\u001b[0m \u001b[0mvalue\u001b[0m\u001b[0;34m)\u001b[0m \u001b[0;34m->\u001b[0m \u001b[0;32mNone\u001b[0m\u001b[0;34m:\u001b[0m\u001b[0;34m\u001b[0m\u001b[0;34m\u001b[0m\u001b[0m\n",
      "\u001b[0;31mAttributeError\u001b[0m: 'DataFrame' object has no attribute 'Commodities'"
     ]
    }
   ],
   "source": [
    "area.Crop[area.Crop == 'Paddy'] = 'Rice'\n",
    "area.Crop[area.Crop == 'Moong(Green Gram)'] = 'Moong'\n",
    "list_area=sort(area.Crop.unique())\n",
    "list_price=sort(crop_price.Commodities.unique())\n",
    "for item in list_price:\n",
    "    if 'Paddy' in item:\n",
    "        crop_price.Commodities[crop_price.Commodities == item]='Rice'\n",
    "for item in list_price:\n",
    "    for item_area in list_area:\n",
    "        if item.strip() in item_area or item_area.strip() in item:\n",
    "            if item != item_area:\n",
    "                crop_price.Commodities[crop_price.Commodities == item]=item_area\n",
    "crop_price.Commodities[crop_price.Commodities == 'Cotton F-414/H-777 ']='Cotton(lint)'\n",
    "crop_price.Commodities[crop_price.Commodities == 'Cotton H-4 750 ']='Cotton(lint)'\n",
    "crop_price.Commodities[crop_price.Commodities == 'Paddy']='Rice'\n",
    "crop_price = crop_price.groupby(['Commodities'],as_index=False,sort=False).sum()\n",
    "# crop_price.head()"
   ]
  },
  {
   "cell_type": "code",
   "execution_count": null,
   "metadata": {},
   "outputs": [],
   "source": [
    "# Converting data to make it visualizable\n",
    "area_price=area.iloc[:,1:]\n",
    "area_price = area_price.groupby(['Crop_Year','Crop'],as_index=True,sort=False).sum()\n",
    "area_price = area_price.iloc[:,:].unstack(level=0).reset_index()\n",
    "area_price = area_price.fillna(0)\n",
    "area_price.columns = area_price.columns.droplevel()\n",
    "area_price.rename(columns={'':'Crop'},inplace=True)\n",
    "area_price = area_price[area_price['Crop'].isin(crop_price.Commodities)].sort_values(by='Crop')\n",
    "area_price.drop(columns={2000,2001,2003,2013,2014,2015},inplace=True)\n",
    "area_price.columns = area_price.columns.astype(str)\n",
    "area_price = area_price.reindex(sorted(area_price.columns), axis=1)\n",
    "# temp = area_price.iloc[:,1:].reindex_axis(sorted(area_price.iloc[:,1:].columns), axis=1)\n",
    "# reindex_axis deprecated .. replace with reindex\n",
    "area_price.head()"
   ]
  },
  {
   "cell_type": "code",
   "execution_count": null,
   "metadata": {},
   "outputs": [],
   "source": [
    "# Seleccionar los nombres de los cultivos que están presentes tanto en la tabla area_price como en la tabla crop_price\n",
    "crop_price = crop_price[crop_price['Commodities'].isin(area_price.Crop)].sort_values(by='Commodities')\n",
    "crop_price.head()"
   ]
  },
  {
   "cell_type": "markdown",
   "metadata": {},
   "source": [
    "#### Visualización del área de cultivo para cultivos por año"
   ]
  },
  {
   "cell_type": "code",
   "execution_count": null,
   "metadata": {},
   "outputs": [],
   "source": [
    "years= area_price.columns[1:]\n",
    "fig = mplot.figure(figsize=(15,10))\n",
    "ax1 = fig.add_subplot(111)\n",
    "colormap = plt.cm.nipy_spectral\n",
    "\n",
    "# set color cycle pone colores a cada línea\n",
    "ax1.set_prop_cycle('color', [colormap(i) for i in np.linspace(0, 1,area_price.shape[0])])\n",
    "for i in range(area_price.shape[0]):\n",
    "    ax1.plot(area_price.columns[:area_price.shape[1]-1],area_price.iloc[i,:area_price.shape[1]-1])\n",
    "mplot.legend(area_price.iloc[:,area_price.shape[1]-1],bbox_to_anchor=(1.02,1), borderaxespad=0)\n",
    "mplot.title('Superficie de cultivo de los principales cultivos anuales')\n",
    "mplot.show()\n",
    "\n",
    "# https://stackoverflow.com/questions/44806598/matplotlib-set-color-cycle-versus-set-prop-cycle"
   ]
  },
  {
   "cell_type": "markdown",
   "metadata": {},
   "source": [
    "#### Visualización del cambio en los precios de los cultivos por año"
   ]
  },
  {
   "cell_type": "code",
   "execution_count": null,
   "metadata": {},
   "outputs": [],
   "source": [
    "years= crop_price.columns[1:]\n",
    "fig = mplot.figure(figsize=(15,10))\n",
    "ax1 = fig.add_subplot(111)\n",
    "colormap = plt.cm.nipy_spectral\n",
    "ax1.set_prop_cycle('color',[colormap(i) for i in np.linspace(0, 1,crop_price.shape[0])])\n",
    "for i in range(crop_price.shape[0]):\n",
    "    ax1.plot(crop_price.columns[1:],crop_price.iloc[i,1:])\n",
    "mplot.legend(crop_price.iloc[:,0],bbox_to_anchor=(1.02,1), borderaxespad=0)\n",
    "mplot.title('Precios de los principales cultivos por año')\n",
    "mplot.show()"
   ]
  },
  {
   "cell_type": "markdown",
   "metadata": {},
   "source": [
    "#### Conversión de datos de producción para compararlos con datos de precios"
   ]
  },
  {
   "cell_type": "code",
   "execution_count": null,
   "metadata": {},
   "outputs": [],
   "source": [
    "production_year=production.iloc[:,1:]\n",
    "production_year = production_year.groupby(['Crop_Year','Crop'],as_index=True,sort=False).sum()\n",
    "production_year = production_year.iloc[:,:].unstack(level=0).reset_index()\n",
    "production_year = production_year.fillna(0)\n",
    "production_year.columns = production_year.columns.droplevel()\n",
    "production_year.rename(columns={'':'Crop'},inplace=True)\n",
    "production_year = production_year[production_year['Crop'].isin(crop_price.Commodities)].sort_values(by='Crop')\n",
    "production_year.drop(columns={2000,2001,2003,2013,2014,2015},inplace=True)\n",
    "production_year.columns = production_year.columns.astype(str)\n",
    "production_year = production_year.reindex(sorted(production_year.columns), axis=1)\n",
    "production_year.head()\n",
    "\n",
    "#reindex"
   ]
  },
  {
   "cell_type": "markdown",
   "metadata": {},
   "source": [
    "#### Visualización de la producción de cultivos por año"
   ]
  },
  {
   "cell_type": "code",
   "execution_count": null,
   "metadata": {},
   "outputs": [],
   "source": [
    "fig = mplot.figure(figsize=(15,10))\n",
    "t = (\"Sugarcane,Rice and Wheat have 1/10th of actual values to make data be relative and observable\")\n",
    "ax1 = fig.add_subplot(111)\n",
    "colormap = plt.cm.nipy_spectral\n",
    "ax1.set_prop_cycle('color',[colormap(i) for i in np.linspace(0, 1,production_year.shape[0])])\n",
    "for i in range(production_year.shape[0]):\n",
    "    if  production_year.iloc[i,1] < 50000000:\n",
    "        ax1.plot(production_year.columns[:production_year.shape[1]-1],production_year.iloc[i,:production_year.shape[1]-1])\n",
    "    else:\n",
    "        ax1.plot(production_year.columns[:production_year.shape[1]-1],production_year.iloc[i,:production_year.shape[1]-1]/10,linestyle='--')\n",
    "mplot.legend(production_year.iloc[:,production_year.shape[1]-1],bbox_to_anchor=(1.02,1), borderaxespad=0)\n",
    "plt.text(0,3.5*10000000, t, ha='left',va='top', rotation=0, wrap=True)\n",
    "mplot.title('Cantidad de producción de los principales cultivos anuales')\n",
    "mplot.show()"
   ]
  },
  {
   "cell_type": "markdown",
   "metadata": {},
   "source": [
    "### Encontrar ganancias por unidad de área para cultivo\n",
    "ganancia = precio * producción / área"
   ]
  },
  {
   "cell_type": "code",
   "execution_count": null,
   "metadata": {},
   "outputs": [],
   "source": [
    "ratio_prod_area = production_year.iloc[:,:area_price.shape[1]-1].reset_index(drop=True)/area_price.iloc[:,:area_price.shape[1]-1].reset_index(drop=True)\n",
    "ratio_prod_area.index = area_price.index\n",
    "ratio_prod_area=pd.concat([area_price.iloc[:,area_price.shape[1]-1],ratio_prod_area],axis=1)\n",
    "# ratio_prod_area.head()\n",
    "ratio_prod_area_earn = ratio_prod_area.iloc[:,1:].reset_index(drop=True)*crop_price.iloc[:,1:].reset_index(drop=True)\n",
    "ratio_prod_area_earn.index = area_price.index\n",
    "ratio_prod_area_earn=pd.concat([area_price.iloc[:,area_price.shape[1]-1],ratio_prod_area_earn],axis=1)\n",
    "ratio_prod_area_earn.head()"
   ]
  },
  {
   "cell_type": "markdown",
   "metadata": {},
   "source": [
    "#### Visualización de posibles ganancias en cultivos principales por unidad de área por año"
   ]
  },
  {
   "cell_type": "code",
   "execution_count": null,
   "metadata": {},
   "outputs": [],
   "source": [
    "years= ratio_prod_area_earn.columns[1:]\n",
    "fig = mplot.figure(figsize=(15,10))\n",
    "ax1 = fig.add_subplot(111)\n",
    "colormap = plt.cm.nipy_spectral\n",
    "ax1.set_prop_cycle('color',[colormap(i) for i in np.linspace(0, 1,ratio_prod_area_earn.shape[0])])\n",
    "for i in range(ratio_prod_area_earn.shape[0]):\n",
    "    ax1.plot(ratio_prod_area_earn.columns[1:],ratio_prod_area_earn.iloc[i,1:])\n",
    "mplot.legend(ratio_prod_area_earn.iloc[:,0],bbox_to_anchor=(1.02,1), borderaxespad=0)\n",
    "mplot.title('Possible earnings on major crops per unit area year wise')\n",
    "mplot.show()"
   ]
  },
  {
   "cell_type": "markdown",
   "metadata": {},
   "source": [
    "#### Tomando datos para hacer frente a las precipitaciones"
   ]
  },
  {
   "cell_type": "code",
   "execution_count": null,
   "metadata": {},
   "outputs": [],
   "source": [
    "prod_rain = crop_prod.copy()\n",
    "prod_rain = prod_rain.loc[prod_rain.loc[:,'Crop_Year'] >=2000,:]\n",
    "prod_rain = prod_rain.groupby(['State_Name','Crop_Year','Crop'],as_index=False,sort=False).sum()\n",
    "prod_rain.iloc[:,0]=prod_rain.iloc[:,0].str.upper()\n",
    "prod_rain = prod_rain.drop(columns = {'Crop','Production'})\n",
    "prod_rain = prod_rain.groupby(['State_Name','Crop_Year'],as_index=False,sort=False).sum()\n",
    "prod_rain.State_Name[prod_rain.State_Name == 'ANDAMAN AND NICOBAR ISLANDS'] = 'ANDAMAN & NICOBAR ISLANDS'\n",
    "prod_rain.State_Name[prod_rain.State_Name == 'JAMMU AND KASHMIR '] = 'JAMMU & KASHMIR'\n",
    "prod_rain.State_Name[prod_rain.State_Name == 'ODISHA'] = 'ORISSA'\n",
    "prod_rain.State_Name[prod_rain.State_Name == 'TELANGANA '] = 'TELANGANA'\n",
    "# prod_rain.head()"
   ]
  },
  {
   "cell_type": "code",
   "execution_count": null,
   "metadata": {},
   "outputs": [],
   "source": [
    "temp_rain = pd.concat([rainfall.iloc[:,0:2],rainfall.iloc[:,rainfall.shape[1]-1]],axis=1)\n",
    "prod_rain = prod_rain[prod_rain['State_Name'].isin(temp_rain.STATES)]\n",
    "temp_rain = temp_rain[temp_rain['STATES'].isin(prod_rain.State_Name)]\n",
    "temp_rain.head()"
   ]
  },
  {
   "cell_type": "code",
   "execution_count": null,
   "metadata": {},
   "outputs": [],
   "source": [
    "area = crop_prod.copy()\n",
    "area = area.loc[area.loc[:,'Crop_Year'] >=2000,:]\n",
    "# area.drop(columns={'Production'},inplace=True)\n",
    "area = area.groupby(['State_Name','Crop_Year','Crop'],as_index=False,sort=False).sum()\n",
    "area_temp = area.drop(columns = 'Crop')\n",
    "area_temp = area_temp.groupby(['State_Name','Crop_Year'],as_index=False,sort=False).sum()\n",
    "area_temp.iloc[:,0]=area_temp.iloc[:,0].str.upper()\n",
    "area_temp.State_Name[area_temp.State_Name == 'ANDAMAN AND NICOBAR ISLANDS'] = 'ANDAMAN & NICOBAR ISLANDS'\n",
    "area_temp.State_Name[area_temp.State_Name == 'JAMMU AND KASHMIR '] = 'JAMMU & KASHMIR'\n",
    "area_temp.State_Name[area_temp.State_Name == 'ODISHA'] = 'ORISSA'\n",
    "area_temp.State_Name[area_temp.State_Name == 'TELANGANA '] = 'TELANGANA'\n",
    "# area_temp.shape,temp_rain.shape\n",
    "area_temp = area_temp[area_temp['State_Name'].isin(temp_rain.STATES)]\n",
    "temp_rain = temp_rain[temp_rain['STATES'].isin(area_temp.State_Name)]\n",
    "area_temp.head()\n",
    "# ratio_prod_rain = pd.concat([prod_rain.iloc[:,0:3],prod_rain.Area*temp_rain.ANNUAL],axis=1)\n",
    "# ratio_prod_rain"
   ]
  },
  {
   "cell_type": "code",
   "execution_count": null,
   "metadata": {},
   "outputs": [],
   "source": [
    "area_rainfall = pd.merge(area_temp.rename(columns={\"State_Name\": \"STATES\", \"Crop_Year\": \"YEAR\"}),temp_rain,how='inner')\n",
    "area_rainfall.head()"
   ]
  },
  {
   "cell_type": "code",
   "execution_count": null,
   "metadata": {},
   "outputs": [],
   "source": [
    "# area_rainfall.Area = area_rainfall.Production/(area_rainfall.Area*area_rainfall.ANNUAL)\n",
    "# area_rainfall.head()"
   ]
  },
  {
   "cell_type": "code",
   "execution_count": null,
   "metadata": {},
   "outputs": [],
   "source": [
    "suicides.head()\n",
    "suicides.rename(columns={'State/UT':'STATES'},inplace = True)"
   ]
  },
  {
   "cell_type": "code",
   "execution_count": null,
   "metadata": {},
   "outputs": [],
   "source": [
    "area_rainfall_plot = area_rainfall[area_rainfall['STATES'].isin(suicides.STATES)]\n",
    "area_rainfall_plot.dropna()\n",
    "suicides = suicides[suicides['STATES'].isin(area_rainfall_plot.STATES)]\n",
    "area_rainfall_plot.shape"
   ]
  },
  {
   "cell_type": "markdown",
   "metadata": {},
   "source": [
    "#### Tomando la proporción de área * precipitación vs producción\n",
    "- Si este valor es alto, muestra que los agricultores tuvieron pérdidas."
   ]
  },
  {
   "cell_type": "code",
   "execution_count": null,
   "metadata": {},
   "outputs": [],
   "source": [
    "area_rainfall['Calc'] = (area_rainfall.Area*area_rainfall.ANNUAL)/area_rainfall.Production\n",
    "# area_rainfall"
   ]
  },
  {
   "cell_type": "code",
   "execution_count": null,
   "metadata": {},
   "outputs": [],
   "source": [
    "area_rainfall = pd.merge(area_temp.rename(columns={\"State_Name\": \"STATES\", \"Crop_Year\": \"YEAR\"}),temp_rain,how='inner')\n",
    "area_rain_no0=area_rainfall.copy()\n",
    "# area_rain_no0.iloc[:,2:] = fill_0(area_rain_n0.iloc[:,2:])\n",
    "area_rain_no0.head()"
   ]
  },
  {
   "cell_type": "markdown",
   "metadata": {},
   "source": [
    "#### Estados de búsqueda que se ven afectados por la precipitación promedio anual por área (es decir, área frente a precipitación)\n",
    "- Esto significa cuáles de los estados dependen en gran medida de las precipitaciones para el área de cultivo."
   ]
  },
  {
   "cell_type": "code",
   "execution_count": null,
   "metadata": {},
   "outputs": [],
   "source": [
    "ct = 1\n",
    "fig = mplot.figure(figsize=(20,22))\n",
    "for i in area_rain_no0.STATES.unique():\n",
    "    tp= area_rain_no0[area_rain_no0.STATES==i]\n",
    "    tp=tp.iloc[:,2:] \n",
    "    mplot.subplot(6,5,ct)\n",
    "    mplot.scatter(tp.iloc[:,0],tp.iloc[:,2])\n",
    "    mplot.title(i)\n",
    "    ct+=1\n",
    "mplot.show()"
   ]
  },
  {
   "cell_type": "markdown",
   "metadata": {},
   "source": [
    "#### Encontrar estados que se ven afectados por la precipitación media anual para la producción (i.n. Producción y lluvia): \n",
    "- esto significa qué estados se ven afectados por la lluvia para la producción"
   ]
  },
  {
   "cell_type": "code",
   "execution_count": null,
   "metadata": {},
   "outputs": [],
   "source": [
    "ct = 0\n",
    "fig = mplot.figure(figsize=(20,22))\n",
    "for i in area_rain_no0.STATES.unique():\n",
    "    tp= area_rain_no0[area_rain_no0.STATES==i]\n",
    "    tp=tp.iloc[:,2:]\n",
    "    ct+=1\n",
    "    mplot.subplot(6,5,ct)\n",
    "    mplot.scatter(tp.iloc[:,1],tp.iloc[:,2])\n",
    "    mplot.title(i)\n",
    "mplot.show()"
   ]
  },
  {
   "cell_type": "markdown",
   "metadata": {},
   "source": [
    "#### Encontrar estados que se ven afectados por la precipitación promedio anual por proporción de producción y área (es decir, producción / área vs precipitación)\n",
    "- Esto significa en qué estados la proporción de productos y área cultivada se ve afectada por las lluvias."
   ]
  },
  {
   "cell_type": "code",
   "execution_count": null,
   "metadata": {},
   "outputs": [],
   "source": [
    "ct = 0\n",
    "fig = mplot.figure(figsize=(20,22))\n",
    "for i in area_rain_no0.STATES.unique():\n",
    "    tp= area_rain_no0[area_rain_no0.STATES==i]\n",
    "    tp=tp.iloc[:,2:]\n",
    "    ct+=1\n",
    "    mplot.subplot(6,5,ct)\n",
    "    mplot.scatter(tp.iloc[:,1]/tp.iloc[:,0],tp.iloc[:,2])\n",
    "    mplot.title(i)\n",
    "mplot.show()"
   ]
  },
  {
   "cell_type": "markdown",
   "metadata": {},
   "source": [
    "## Convertir todos los datos para fusionarlos en una tabla y luego guardarlos en un archivo csv"
   ]
  },
  {
   "cell_type": "code",
   "execution_count": null,
   "metadata": {},
   "outputs": [],
   "source": [
    "area = crop_prod.copy()\n",
    "area = area.loc[area.loc[:,'Crop_Year'] >=2000,:]\n",
    "# area.drop(columns={'Production'},inplace=True)\n",
    "area = area.groupby(['Crop_Year','Crop'],as_index=False,sort=False).sum()\n",
    "# area_temp = area.drop(columns = 'Crop')\n",
    "# area_temp = area_temp.groupby(['State_Name','Crop_Year'],as_index=False,sort=False).sum()\n",
    "area_temp=area.copy()\n",
    "# area_temp.shape,temp_rain.shape\n",
    "# area_temp.head()"
   ]
  },
  {
   "cell_type": "code",
   "execution_count": null,
   "metadata": {},
   "outputs": [],
   "source": [
    "area_heat =pd.merge(area_temp.rename(columns={\"Crop_Year\": \"YEAR\"}),temperature.iloc[:,0:2],how='inner',sort=False)\n",
    "area_heat['Ratio'] = area_heat.Production/area_heat.Area\n",
    "# area_heat.head()"
   ]
  },
  {
   "cell_type": "code",
   "execution_count": null,
   "metadata": {},
   "outputs": [],
   "source": [
    "area = crop_prod.copy()\n",
    "area = area.loc[area.loc[:,'Crop_Year'] >=2000,:]\n",
    "# area.drop(columns={'Production'},inplace=True)\n",
    "area = area.groupby(['State_Name','Crop_Year','Crop'],as_index=False,sort=False).sum()\n",
    "area_temp=area.copy()\n",
    "area_temp.iloc[:,0]=area_temp.iloc[:,0].str.upper()\n",
    "area_temp.State_Name[area_temp.State_Name == 'ANDAMAN AND NICOBAR ISLANDS'] = 'ANDAMAN & NICOBAR ISLANDS'\n",
    "area_temp.State_Name[area_temp.State_Name == 'JAMMU AND KASHMIR '] = 'JAMMU & KASHMIR'\n",
    "area_temp.State_Name[area_temp.State_Name == 'ODISHA'] = 'ORISSA'\n",
    "area_temp.State_Name[area_temp.State_Name == 'TELANGANA '] = 'TELANGANA'\n",
    "area_temp.Crop[area_temp.Crop=='Paddy'] = 'Rice' \n",
    "area_temp.Crop[area_temp.Crop == 'Moong(Green Gram)'] = 'Moong'"
   ]
  },
  {
   "cell_type": "code",
   "execution_count": null,
   "metadata": {},
   "outputs": [],
   "source": [
    "temp_crop_price = crop_price.melt(id_vars=['Commodities'])\n",
    "temp_crop_price.variable=temp_crop_price.variable.astype(int)"
   ]
  },
  {
   "cell_type": "code",
   "execution_count": null,
   "metadata": {},
   "outputs": [],
   "source": [
    "temp_cost = pd.concat([culti_cost.iloc[:,0:2],culti_cost.iloc[:,8:14]],axis=1)\n",
    "years = temp_cost.columns[2:]\n",
    "temp_cost.columns = list(temp_cost.columns[:2])+list([year[len(year)-7:len(year)-3] for year in years ])\n",
    "temp_cost= temp_cost.melt(id_vars=['Crop','State/ UT Name'])\n",
    "temp_cost.Crop[temp_cost.Crop=='Paddy'] = 'Rice'\n",
    "temp_cost.Crop[temp_cost.Crop=='Arhar'] = 'Arhar/Tur'\n",
    "temp_cost.Crop[temp_cost.Crop=='Cotton'] = 'Cotton(lint)'\n",
    "temp_cost.Crop[temp_cost.Crop=='Rapeseed And Mustard'] = 'Rapeseed'\n",
    "temp_cost.rename(columns={'State/ UT Name':'STATES'},inplace=True)\n",
    "temp_cost.STATES = temp_cost.STATES.str.upper()\n",
    "temp_cost.STATES[temp_cost.STATES=='ODISHA']='ORISSA'\n",
    "temp_cost.variable = temp_cost.variable.astype(int)"
   ]
  },
  {
   "cell_type": "code",
   "execution_count": null,
   "metadata": {},
   "outputs": [],
   "source": [
    "temp_cost1 = pd.concat([culti_cost.iloc[:,0:2],culti_cost.iloc[:,14:19]],axis=1)\n",
    "years = temp_cost1.columns[2:]\n",
    "temp_cost1.columns = list(temp_cost1.columns[:2])+list([year[len(year)-7:len(year)-3] for year in years ])\n",
    "temp_cost1= temp_cost1.melt(id_vars=['Crop','State/ UT Name'])\n",
    "temp_cost1.Crop[temp_cost1.Crop=='Paddy'] = 'Rice'\n",
    "temp_cost1.Crop[temp_cost1.Crop=='Arhar'] = 'Arhar/Tur'\n",
    "temp_cost1.Crop[temp_cost1.Crop=='Cotton'] = 'Cotton(lint)'\n",
    "temp_cost1.Crop[temp_cost1.Crop=='Rapeseed And Mustard'] = 'Rapeseed'\n",
    "temp_cost1.rename(columns={'State/ UT Name':'STATES'},inplace=True)\n",
    "temp_cost1.STATES = temp_cost.STATES.str.upper()\n",
    "temp_cost1.STATES[temp_cost1.STATES=='ODISHA']='ORISSA'\n",
    "temp_cost1.variable = temp_cost1.variable.astype(int)"
   ]
  },
  {
   "cell_type": "code",
   "execution_count": null,
   "metadata": {},
   "outputs": [],
   "source": [
    "temp_sui = suicides.copy()\n",
    "temp_sui = temp_sui.melt(id_vars='STATES')\n",
    "temp_sui.variable=temp_sui.variable.astype(int)"
   ]
  },
  {
   "cell_type": "markdown",
   "metadata": {},
   "source": [
    "### Fusionando todos los datos convertidos arriba"
   ]
  },
  {
   "cell_type": "code",
   "execution_count": null,
   "metadata": {},
   "outputs": [],
   "source": [
    "merged_all=pd.merge(area_temp.rename(columns={'State_Name':'STATES','Crop_Year':'YEAR' }),temp_rain.rename(columns={'ANNUAL':'Annual_Rain'}),how='left')\n",
    "merged_all=pd.merge(merged_all,temperature.iloc[:,0:2].rename(columns={'ANNUAL':'Avg_Temperature'}),how='left')\n",
    "merged_all=pd.merge(merged_all,temp_crop_price.rename(columns={'Commodities':'Crop','variable':'YEAR','value':'Price'}),how='left')\n",
    "merged_all=pd.merge(merged_all,temp_cost.rename(columns={'variable':'YEAR','value':'Cost_per_Hectare'}),how='left')\n",
    "merged_all=pd.merge(merged_all,temp_cost1.rename(columns={'variable':'YEAR','value':'Cost_per_quintal'}),how='left')\n",
    "merged_all = pd.merge(merged_all,temp_sui.rename(columns={'variable':'YEAR','value':'Suicides'}),how='left')\n",
    "merged_all = pd.merge(merged_all,exports.rename(columns = {'Product':'Crop','variable':'YEAR','value':'Export'}),how='left')\n",
    "merged_all.head()"
   ]
  },
  {
   "cell_type": "markdown",
   "metadata": {},
   "source": [
    "#### Visualización de la relación entre diferentes características"
   ]
  },
  {
   "cell_type": "code",
   "execution_count": null,
   "metadata": {},
   "outputs": [],
   "source": [
    "scat_plot = pd.plotting.scatter_matrix(merged_all,alpha=0.5,figsize=(18,18))\n",
    "mplot.show()\n",
    "\n",
    "#Actualización pd.scatter_matrix --> pd.plotting.scatter_matrix"
   ]
  },
  {
   "cell_type": "code",
   "execution_count": null,
   "metadata": {},
   "outputs": [],
   "source": [
    "merged_all = merged_all.fillna(0)\n",
    "merged_all.shape"
   ]
  },
  {
   "cell_type": "code",
   "execution_count": null,
   "metadata": {},
   "outputs": [],
   "source": [
    "merged_all.to_csv('data_set.csv',index=False)"
   ]
  },
  {
   "cell_type": "code",
   "execution_count": null,
   "metadata": {},
   "outputs": [],
   "source": [
    "data = pd.read_csv('data_set.csv')\n",
    "print(data.shape)\n",
    "data.head()"
   ]
  },
  {
   "cell_type": "code",
   "execution_count": null,
   "metadata": {},
   "outputs": [],
   "source": [
    "data_set = data[(data['YEAR'] >=2010)*(data['YEAR'] <=2014) ].fillna(0).groupby(['YEAR','Suicides']).agg('mean').reset_index()\n",
    "# data_set.head()"
   ]
  },
  {
   "cell_type": "markdown",
   "metadata": {},
   "source": [
    "### Encontrar correlación entre diferentes características"
   ]
  },
  {
   "cell_type": "code",
   "execution_count": null,
   "metadata": {},
   "outputs": [],
   "source": [
    "vals = data_set.corr()\n",
    "vals"
   ]
  },
  {
   "cell_type": "markdown",
   "metadata": {},
   "source": [
    "### Visualización de correlación entre características"
   ]
  },
  {
   "cell_type": "code",
   "execution_count": null,
   "metadata": {},
   "outputs": [],
   "source": [
    "fig=mplot.figure(figsize=(8,6))\n",
    "mplot.imshow(vals.values)\n",
    "mplot.colorbar()\n",
    "mplot.show()"
   ]
  },
  {
   "cell_type": "markdown",
   "metadata": {},
   "source": [
    "#### Usando regresión lineal para encontrar el modelo de suicidios"
   ]
  },
  {
   "cell_type": "code",
   "execution_count": null,
   "metadata": {},
   "outputs": [],
   "source": [
    "model = LR()\n",
    "X = data_set.drop(columns = ['Suicides','YEAR'],axis=1)\n",
    "y = data_set['Suicides']\n",
    "tou = 1\n",
    "Xx = X.values[y>tou]\n",
    "Yy = y.values[y>tou]\n",
    "v1 = Xx.mean(axis = 0)\n",
    "v2 = Xx.std(axis = 0)\n",
    "Xx = Xx - v1\n",
    "Xx = Xx / v2\n",
    "model.fit(Xx,Yy)\n",
    "yd = model.predict(Xx)\n",
    "model.score(Xx,Yy)"
   ]
  },
  {
   "cell_type": "code",
   "execution_count": null,
   "metadata": {},
   "outputs": [],
   "source": [
    "mplot.plot(yd,Yy,'.')\n",
    "mplot.title('Actual vs Predicted suicide rates')\n",
    "mplot.show()"
   ]
  },
  {
   "cell_type": "markdown",
   "metadata": {},
   "source": [
    "#### Uso del método CART para encontrar el modelo de tasas de suicidio"
   ]
  },
  {
   "cell_type": "code",
   "execution_count": null,
   "metadata": {},
   "outputs": [],
   "source": [
    "model = scart(max_depth = 4)\n",
    "model.fit(Xx,Yy)\n",
    "model.score(Xx,Yy)"
   ]
  },
  {
   "cell_type": "code",
   "execution_count": null,
   "metadata": {},
   "outputs": [],
   "source": [
    "Yd = model.predict(Xx)\n",
    "fig = mplot.figure(figsize=(8,8))\n",
    "mplot.plot(Yd,Yy,'.')\n",
    "mplot.title('Actual vs Predicted suicide rates')\n",
    "# mplot.savefig('Figures/suicide_pred_cart_model')\n",
    "mplot.show()"
   ]
  },
  {
   "cell_type": "code",
   "execution_count": null,
   "metadata": {},
   "outputs": [],
   "source": [
    "print(model.decision_path(Xx[0:1,:]))"
   ]
  },
  {
   "cell_type": "code",
   "execution_count": null,
   "metadata": {},
   "outputs": [],
   "source": [
    "model.feature_importances_"
   ]
  },
  {
   "cell_type": "code",
   "execution_count": null,
   "metadata": {},
   "outputs": [],
   "source": [
    "print(model.feature_importances_.argmax())\n",
    "print(X.columns)"
   ]
  },
  {
   "cell_type": "code",
   "execution_count": null,
   "metadata": {},
   "outputs": [],
   "source": [
    "import graphviz #install this library ~ pip install graphviz\n",
    "from sklearn import tree"
   ]
  },
  {
   "cell_type": "code",
   "execution_count": null,
   "metadata": {},
   "outputs": [],
   "source": [
    "dot_data = tree.export_graphviz(model, out_file=None,\n",
    "                                feature_names=X.columns[:],  \n",
    "                         filled=True, rounded=True,  \n",
    "                         special_characters=True)  \n",
    "graph = graphviz.Source(dot_data,filename = 'dtree', format = 'png')"
   ]
  },
  {
   "cell_type": "code",
   "execution_count": null,
   "metadata": {},
   "outputs": [],
   "source": [
    "#graph.render()"
   ]
  },
  {
   "cell_type": "markdown",
   "metadata": {},
   "source": [
    "### Dtree modelo\n",
    "Nota: comentó que esto no funcionaba en otros sistemas. Si necesita verificarlo, puede descomentarlo y verificar si se ejecuta en el sistema."
   ]
  },
  {
   "cell_type": "code",
   "execution_count": null,
   "metadata": {},
   "outputs": [],
   "source": [
    "# graph"
   ]
  },
  {
   "cell_type": "code",
   "execution_count": null,
   "metadata": {},
   "outputs": [],
   "source": [
    "data_set = data.fillna(0).groupby(['Crop','YEAR']).agg('mean').reset_index()\n",
    "dicts = {}\n",
    "for crop in data_set['Crop'].unique():\n",
    "    \n",
    "    X = data_set[data_set['Crop'] == crop]['YEAR'].values.reshape(-1,1)\n",
    "    Y = data_set[data_set['Crop'] == crop]['Production'].values\n",
    "    if(X.shape[0] > 5):\n",
    "        linmodel = LR()\n",
    "        linmodel.fit(X,Y)\n",
    "        w = linmodel.coef_[0]\n",
    "        dicts[crop] = [w]\n",
    "#         print(w)"
   ]
  },
  {
   "cell_type": "markdown",
   "metadata": {},
   "source": [
    "#### Encontrar los cultivos que tienen una reducción en la producción a lo largo de los años\n",
    "- Esto significará qué cultivos se producirán raramente en el futuro."
   ]
  },
  {
   "cell_type": "code",
   "execution_count": null,
   "metadata": {},
   "outputs": [],
   "source": [
    "slope_data = pd.DataFrame(dicts).T.reset_index().rename(columns = {0:'W_slope'})\n",
    "sns.catplot(x='index', y='W_slope', data = slope_data,  height=10, aspect=12/8.27);\n",
    "plt.ylim(-5000,5000)\n",
    "plt.xticks(rotation='vertical')\n",
    "plt.plot([0,slope_data.shape[0]],[-1000,-1000])\n",
    "plt.title('Barra para cultivos que tiene más reducción de producción a lo largo de los años')\n",
    "# plt.savefig('Figures/Crops_reduction')\n",
    "plt.show()"
   ]
  },
  {
   "cell_type": "code",
   "execution_count": null,
   "metadata": {},
   "outputs": [],
   "source": [
    "slope_data[slope_data.W_slope<-1000]"
   ]
  },
  {
   "cell_type": "code",
   "execution_count": null,
   "metadata": {},
   "outputs": [],
   "source": [
    "data_set = data.fillna(0).groupby(['Crop','YEAR']).agg('mean').reset_index()"
   ]
  },
  {
   "cell_type": "markdown",
   "metadata": {},
   "source": [
    "#### Encontrar cultivos que tienen una reducción en la producción pero su precio está aumentando\n",
    "- Esto significa que la demanda de estos productos todavía está ahí, pero la cantidad de producción se está reduciendo, lo que significa que estos cultivos podrían dar mejores rendimientos si los utilizan pocos agricultores"
   ]
  },
  {
   "cell_type": "code",
   "execution_count": null,
   "metadata": {},
   "outputs": [],
   "source": [
    "dicts = {}\n",
    "dicts2 = {}\n",
    "dicts3 = {}\n",
    "maxw = 0\n",
    "for crop in data_set['Crop'].unique():\n",
    "    X = data_set[data_set['Crop'] == crop]['YEAR'].values.reshape(-1,1)\n",
    "    Y = data_set[data_set['Crop'] == crop]['Production'].values\n",
    "    Y2 = data_set[data_set['Crop'] == crop]['Price'].values\n",
    "    X = X[Y2 > 0]\n",
    "    Y = Y[Y2 > 0]\n",
    "    Y2 = Y2[Y2 > 0]\n",
    "    if(X.shape[0] > 5):    \n",
    "        linmodel = LR()\n",
    "        linmodel.fit(X,Y)\n",
    "        w = linmodel.coef_[0]\n",
    "        linmodel.fit(X,Y2)\n",
    "        w2 = linmodel.coef_[0]\n",
    "        if(w > maxw):\n",
    "            maxw = w\n",
    "        if(w < 0 and w2 > 0):\n",
    "            dicts[crop] = [w,w2]\n",
    "        if(w < 10000 and w2 > 100): \n",
    "            dicts2[crop] = [w,w2]\n",
    "        dicts3[crop] = [w,w2]"
   ]
  },
  {
   "cell_type": "code",
   "execution_count": null,
   "metadata": {},
   "outputs": [],
   "source": [
    "slope_data = pd.DataFrame(dicts).T.reset_index().rename(columns = {0:'production var',1:'price var'})\n",
    "slope_data"
   ]
  },
  {
   "cell_type": "markdown",
   "metadata": {},
   "source": [
    "#### Encontrar los cultivos que tienen un menor aumento en la producción pero que están aumentando de precio: \n",
    "- brinda información sobre qué cultivos podrían ser más rentables de producir"
   ]
  },
  {
   "cell_type": "code",
   "execution_count": null,
   "metadata": {},
   "outputs": [],
   "source": [
    "slope_data = pd.DataFrame(dicts2).T.reset_index().rename(columns = {0:'production var',1:'price var'})\n",
    "slope_data"
   ]
  },
  {
   "cell_type": "code",
   "execution_count": null,
   "metadata": {},
   "outputs": [],
   "source": [
    "slope_data = pd.DataFrame(dicts3).T.reset_index().rename(columns = {0:'production var',1:'price var'})\n",
    "slope_data"
   ]
  },
  {
   "cell_type": "code",
   "execution_count": null,
   "metadata": {},
   "outputs": [],
   "source": [
    "data_set = data.fillna(0).groupby(['Crop','YEAR']).agg('mean').reset_index()"
   ]
  },
  {
   "cell_type": "code",
   "execution_count": null,
   "metadata": {},
   "outputs": [],
   "source": [
    "dicts = {}\n",
    "dicts2 = {}\n",
    "dicts3 = {}\n",
    "maxw = 0\n",
    "for crop in data_set['Crop'].unique():\n",
    "    \n",
    "    X = data_set[data_set['Crop'] == crop]['YEAR'].values.reshape(-1,1)\n",
    "    Y = data_set[data_set['Crop'] == crop]['Cost_per_Hectare'].values\n",
    "    Y2 = data_set[data_set['Crop'] == crop]['Price'].values\n",
    "    \n",
    "    X = X[Y2 > 0]\n",
    "    Y = Y[Y2 > 0]\n",
    "    Y2 = Y2[Y2 > 0]\n",
    "    \n",
    "    if(X.shape[0] > 5):\n",
    "        linmodel = LR()\n",
    "        linmodel.fit(X,Y)\n",
    "        w = linmodel.coef_[0]\n",
    "        linmodel.fit(X,Y2)\n",
    "        w2 = linmodel.coef_[0]\n",
    "        \n",
    "        if(w> 0):\n",
    "            dicts3[crop] = [w,w2]\n",
    "#         print(w)"
   ]
  },
  {
   "cell_type": "markdown",
   "metadata": {},
   "source": [
    "#### Encontrar cultivos que tengan una tasa de aumento en el costo por hectárea más baja que en el precio\n",
    "- Esto nos da información de los productos que podrían ser más preferidos debido a que la proporción de devoluciones es mayor que el aumento en el costo por unidad."
   ]
  },
  {
   "cell_type": "code",
   "execution_count": null,
   "metadata": {},
   "outputs": [],
   "source": [
    "slope_data = pd.DataFrame(dicts3).T.reset_index().rename(columns = {0:'cost_per_hec var',1:'price var'})\n",
    "slope_data['grow_ratio'] = (slope_data['cost_per_hec var']**-1)*slope_data['price var']\n",
    "slope_data.sort_values(by = 'grow_ratio', ascending = False)"
   ]
  },
  {
   "cell_type": "code",
   "execution_count": null,
   "metadata": {},
   "outputs": [],
   "source": [
    "#For abhishek\n",
    "merged_all.columns"
   ]
  },
  {
   "cell_type": "code",
   "execution_count": null,
   "metadata": {},
   "outputs": [],
   "source": [
    "merged_all['invar'] = (merged_all['Production'])"
   ]
  },
  {
   "cell_type": "code",
   "execution_count": null,
   "metadata": {},
   "outputs": [],
   "source": [
    "state_crop = (merged_all[['STATES','Crop','invar']])\n",
    "state_crop = state_crop.groupby(['STATES','Crop']).agg('sum').reset_index()\n",
    "state_crop = state_crop.pivot(index='STATES',columns = 'Crop',values = 'invar')\n",
    "#Use fill na as per your choice\n",
    "state_crop = state_crop.fillna(0)\n",
    "state_crop.head()"
   ]
  },
  {
   "cell_type": "code",
   "execution_count": null,
   "metadata": {},
   "outputs": [],
   "source": [
    "dict1 = {}\n",
    "for i,row in enumerate(state_crop.index):\n",
    "#     print(i)\n",
    "    dict1[row] = state_crop.columns[state_crop.iloc[i].argsort()[::-1][:13]]"
   ]
  },
  {
   "cell_type": "code",
   "execution_count": null,
   "metadata": {},
   "outputs": [],
   "source": [
    "pd.DataFrame(dict1).T"
   ]
  },
  {
   "cell_type": "markdown",
   "metadata": {},
   "source": [
    "### actualmente cultivando cultivos de alta producción"
   ]
  },
  {
   "cell_type": "code",
   "execution_count": null,
   "metadata": {},
   "outputs": [],
   "source": [
    "from sklearn.decomposition import NMF"
   ]
  },
  {
   "cell_type": "code",
   "execution_count": null,
   "metadata": {},
   "outputs": [],
   "source": [
    "model = NMF(n_components=2, init='random', random_state=0)"
   ]
  },
  {
   "cell_type": "code",
   "execution_count": null,
   "metadata": {},
   "outputs": [],
   "source": [
    "X = state_crop.fillna(0).values"
   ]
  },
  {
   "cell_type": "code",
   "execution_count": null,
   "metadata": {},
   "outputs": [],
   "source": [
    "W = model.fit_transform(X)"
   ]
  },
  {
   "cell_type": "code",
   "execution_count": null,
   "metadata": {},
   "outputs": [],
   "source": [
    "H = model.components_"
   ]
  },
  {
   "cell_type": "code",
   "execution_count": null,
   "metadata": {},
   "outputs": [],
   "source": [
    "state_crop[:] = (np.dot(W,H))"
   ]
  },
  {
   "cell_type": "code",
   "execution_count": null,
   "metadata": {},
   "outputs": [],
   "source": [
    "state_crop.head()"
   ]
  },
  {
   "cell_type": "code",
   "execution_count": null,
   "metadata": {},
   "outputs": [],
   "source": [
    "dict1 = {}\n",
    "for i,row in enumerate(state_crop.index):\n",
    "#     print(i)\n",
    "    dict1[row] = state_crop.columns[state_crop.iloc[i].argsort()[::-1][:13]]"
   ]
  },
  {
   "cell_type": "code",
   "execution_count": null,
   "metadata": {},
   "outputs": [],
   "source": [
    "pd.DataFrame(dict1).T"
   ]
  },
  {
   "cell_type": "markdown",
   "metadata": {},
   "source": [
    ">Se trata de cultivos recomendados para cultivar en cada estado por separado en función de las tendencias de producción. Pero como verá, el coco no es factible en todos los estados, pero como no estamos considerando los datos del suelo, esto es razonable, podemos informar si el suelo es compatible, entonces estos estados pueden producir estos cultivos que probablemente tengan una alta producción por unidad de área."
   ]
  },
  {
   "cell_type": "markdown",
   "metadata": {},
   "source": [
    "#### Encontrar el grupo de cultivos usando todas las funciones"
   ]
  },
  {
   "cell_type": "code",
   "execution_count": null,
   "metadata": {},
   "outputs": [],
   "source": [
    "for_cluster = merged_all[['Crop', 'Area', 'Production', 'Annual_Rain','Avg_Temperature', 'Price', 'Cost_per_Hectare', 'Cost_per_quintal','Suicides']]\n",
    "for_cluster = for_cluster.groupby(['Crop']).agg('mean').reset_index()\n",
    "for_cluster = for_cluster.drop(28)\n",
    "for_cluster.head()"
   ]
  },
  {
   "cell_type": "code",
   "execution_count": null,
   "metadata": {},
   "outputs": [],
   "source": [
    "X = TSNE(n_components=2).fit_transform(for_cluster.iloc[:,1:])\n",
    "k=5\n",
    "kmeans = km(n_clusters=k, random_state=0).fit(X)\n",
    "y = kmeans.labels_\n",
    "list(set(y))\n",
    "N= len(list(set(y)))\n",
    "cmap = mplot.cm.jet\n",
    "colors = cmap(np.linspace(0, 1, N))\n",
    "fig = mplot.figure(figsize=(10,10))\n",
    "for i in list(set(y)):\n",
    "    mplot.scatter(X[y==i,0],X[y==i,1],c=colors[i],label=str('Class '+str(i)))\n",
    "mplot.legend()\n",
    "mplot.title('Agrupación de cultivos utilizando todas las características')\n",
    "# mplot.xlim(-15,)\n",
    "# mplot.ylim(-20,)\n",
    "mplot.show()\n",
    "\n",
    "\n",
    "# por corregir"
   ]
  },
  {
   "cell_type": "code",
   "execution_count": null,
   "metadata": {},
   "outputs": [],
   "source": [
    "#### Crops falling in same cluster\n",
    "for i in range(k):\n",
    "    print('Cluster ',i,list(set(for_cluster.Crop[y==i].values)),'\\n')"
   ]
  },
  {
   "cell_type": "markdown",
   "metadata": {},
   "source": [
    "#### Encontrar los grupos de estados con el año utilizando todas las características"
   ]
  },
  {
   "cell_type": "code",
   "execution_count": null,
   "metadata": {},
   "outputs": [],
   "source": [
    "# print(merged_all.columns)\n",
    "from sklearn.cluster import AgglomerativeClustering"
   ]
  },
  {
   "cell_type": "code",
   "execution_count": null,
   "metadata": {},
   "outputs": [],
   "source": [
    "for_cluster = merged_all[['STATES','YEAR', 'Area', 'Production', 'Annual_Rain','Avg_Temperature', 'Price', 'Cost_per_Hectare', 'Cost_per_quintal','Suicides']]\n",
    "for_cluster = for_cluster.groupby(['STATES','YEAR']).agg('mean').reset_index()\n",
    "for_cluster.head()\n",
    "X = TSNE(n_components=2).fit_transform(for_cluster.iloc[:,2:])\n",
    "# k=4\n",
    "# kmeans = km(n_clusters=k, random_state=0).fit(X)\n",
    "# y = kmeans.labels_\n",
    "clustering = AgglomerativeClustering(n_clusters=5).fit(X)\n",
    "y=clustering.labels_\n",
    "list(set(y))\n",
    "N= len(list(set(y)))\n",
    "cmap = mplot.cm.jet\n",
    "colors = cmap(np.linspace(0, 1, N))\n",
    "fig = mplot.figure(figsize=(10,10))\n",
    "for i in list(set(y)):\n",
    "    mplot.scatter(X[y==i,0],X[y==i,1],c=colors[i],label=str('Class '+str(i)))\n",
    "mplot.legend()\n",
    "mplot.title('Clustering of states with year using all features')\n",
    "mplot.show()"
   ]
  },
  {
   "cell_type": "code",
   "execution_count": null,
   "metadata": {},
   "outputs": [],
   "source": [
    "#### Crops falling in same cluster\n",
    "for i in range(k):\n",
    "    print('Cluster ',i,list(set(for_cluster.STATES[y==i].values)),'\\n')"
   ]
  },
  {
   "cell_type": "markdown",
   "metadata": {},
   "source": [
    "#### Encontrar los cultivos con máxima producción en cada estado"
   ]
  },
  {
   "cell_type": "code",
   "execution_count": null,
   "metadata": {},
   "outputs": [],
   "source": [
    "max_crop = merged_all[['STATES','YEAR','Crop','Production']]\n",
    "max_crop = max_crop.groupby(['STATES','Crop']).agg('sum').reset_index()\n",
    "max_crop.drop(columns='YEAR',inplace=True)\n",
    "idx = max_crop.groupby(['STATES'])['Production'].transform(max) == max_crop['Production']\n",
    "max_crop[idx]"
   ]
  },
  {
   "cell_type": "markdown",
   "metadata": {},
   "source": [
    "#### Cosechas máximas producidas en los estados por año"
   ]
  },
  {
   "cell_type": "code",
   "execution_count": null,
   "metadata": {},
   "outputs": [],
   "source": [
    "max_crop_yearly = merged_all.groupby('STATES').agg('mean').reset_index()\n",
    "max_crop_yearly = max_crop_yearly[['STATES']]\n",
    "for i in merged_all.YEAR.unique():\n",
    "    max_crop = merged_all[['STATES','YEAR','Crop','Production']]\n",
    "    max_crop = max_crop[max_crop.YEAR==i]\n",
    "    max_crop = max_crop.groupby(['STATES','Crop']).agg('sum').reset_index()\n",
    "    max_crop.drop(columns='YEAR',inplace=True)\n",
    "    idx = max_crop.groupby(['STATES'])['Production'].transform(max) == max_crop['Production']\n",
    "    max_crop_yearly = pd.merge(max_crop_yearly,max_crop[idx][['STATES','Crop']].reset_index(),how='left')\n",
    "    max_crop_yearly.drop(columns= {'index'},inplace=True)\n",
    "    max_crop_yearly.rename(columns={'Crop':i},inplace=True)\n",
    "max_crop_yearly.drop(columns={2015},inplace=True) # Since data for only Assam and Orrisa are available\n",
    "max_crop_yearly"
   ]
  },
  {
   "cell_type": "markdown",
   "metadata": {},
   "source": [
    "###  Fin de la presentación"
   ]
  },
  {
   "cell_type": "code",
   "execution_count": null,
   "metadata": {},
   "outputs": [],
   "source": []
  }
 ],
 "metadata": {
  "kernelspec": {
   "display_name": "Python 3 (ipykernel)",
   "language": "python",
   "name": "python3"
  },
  "language_info": {
   "codemirror_mode": {
    "name": "ipython",
    "version": 3
   },
   "file_extension": ".py",
   "mimetype": "text/x-python",
   "name": "python",
   "nbconvert_exporter": "python",
   "pygments_lexer": "ipython3",
   "version": "3.8.8"
  }
 },
 "nbformat": 4,
 "nbformat_minor": 2
}
